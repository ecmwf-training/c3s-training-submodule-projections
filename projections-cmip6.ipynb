{
    "cells": [
        {
            "cell_type": "markdown",
            "metadata": {
                "editable": true,
                "slideshow": {
                    "slide_type": ""
                },
                "tags": [
                    "logo"
                ]
            },
            "source": [
                "![logo](https://climate.copernicus.eu/sites/default/files/custom-uploads/branding/LogoLine_horizon_C3S.png)"
            ]
        },
        {
            "cell_type": "markdown",
            "metadata": {},
            "source": [
                "<br>"
            ]
        },
        {
            "cell_type": "markdown",
            "metadata": {},
            "source": [
                "# Plot an ensemble of CMIP6 climate projections"
            ]
        },
        {
            "cell_type": "markdown",
            "metadata": {
                "editable": true,
                "slideshow": {
                    "slide_type": ""
                },
                "tags": [
                    "run"
                ]
            },
            "source": [
                "**This notebook can be run on free online platforms, such as Binder, Kaggle and Colab, or they can be accessed from GitHub. The links to run this notebook in these environments are provided here, but please note they are not supported by ECMWF.**\n",
                "\n",
                "[![binder](https://mybinder.org/badge.svg)](https://mybinder.org/v2/gh/ecmwf-training/c3s-training-submodule-projections/main?labpath=projections-cmip6.ipynb)\n",
                "[![kaggle](https://kaggle.com/static/images/open-in-kaggle.svg)](https://kaggle.com/kernels/welcome?src=https://github.com/ecmwf-training/c3s-training-submodule-projections/blob/main/projections-cmip6.ipynb)\n",
                "[![colab](https://colab.research.google.com/assets/colab-badge.svg)](https://colab.research.google.com/github/ecmwf-training/c3s-training-submodule-projections/blob/main/projections-cmip6.ipynb)\n",
                "[![github](https://img.shields.io/badge/Open%20in-GitHub-black?logo=github)](https://github.com/ecmwf-training/c3s-training-submodule-projections/blob/main/projections-cmip6.ipynb)"
            ]
        },
        {
            "cell_type": "markdown",
            "metadata": {
                "editable": true,
                "slideshow": {
                    "slide_type": ""
                },
                "tags": [
                    "objectives"
                ]
            },
            "source": [
                "## Learning objectives 🎯\n",
                "\n",
                "This notebook provides a practical introduction on how to access and process [CMIP6 global climate projections](https://cds.climate.copernicus.eu/datasets/projections-cmip6?tab=overview) data available in the Climate Data Store (CDS) of the Copernicus Climate Change Service (C3S). The workflow shows how to compute and visualize the output of an ensemble of models for the annual global average temperature between 1850 to 2100. You will use the `historical` experiment for the temporal period 1850 to 2014 and the three scenarios `SSP1-2.6`, `SSP2-4.5` and `SSP5-8.5` for the period from 2015 to 2100.\n",
                "\n",
                "Learn [here](https://confluence.ecmwf.int/display/CKB/CMIP6%3A+Global+climate+projections#CMIP6:Globalclimateprojections) more about CMIP6 global climate projections and the CMIP6 experiments in the CDS."
            ]
        },
        {
            "cell_type": "markdown",
            "metadata": {
                "editable": true,
                "slideshow": {
                    "slide_type": ""
                },
                "tags": [
                    "api"
                ]
            },
            "source": [
                "## Prepare your environment\n",
                "\n",
                "### Set up the CDSAPI and your credentials\n",
                "\n",
                "The code below will ensure that the `cdsapi` package is installed. If you have not setup your `~/.cdsapirc` file with your credenials, you can replace `None` with your credentials that can be found on the [how to api](https://cds.climate.copernicus.eu/how-to-api) page (you will need to log in to see your credentials)."
            ]
        },
        {
            "cell_type": "code",
            "execution_count": 3,
            "metadata": {
                "editable": true,
                "slideshow": {
                    "slide_type": ""
                },
                "tags": [
                    "api"
                ]
            },
            "outputs": [],
            "source": [
                "!pip install -q cdsapi\n",
                "# If you have already setup your .cdsapirc file you can leave this as None\n",
                "cdsapi_key = None\n",
                "cdsapi_url = None"
            ]
        },
        {
            "cell_type": "markdown",
            "metadata": {
                "editable": true,
                "slideshow": {
                    "slide_type": ""
                },
                "tags": [
                    "install"
                ]
            },
            "source": [
                "### (Install and) Import libraries\n",
                "\n",
                "We will be working with data in NetCDF format. To best handle this data we will use libraries for working with multidimensional arrays, in particular Xarray. We will also need libraries for plotting and viewing data, in this case we will use Matplotlib and Cartopy."
            ]
        },
        {
            "cell_type": "code",
            "execution_count": 4,
            "metadata": {
                "editable": true,
                "slideshow": {
                    "slide_type": ""
                },
                "tags": [
                    "install"
                ]
            },
            "outputs": [],
            "source": [
                "# General libs for file paths, data extraction, etc\n",
                "from glob import glob\n",
                "from pathlib import Path\n",
                "import os\n",
                "from os.path import basename\n",
                "import zipfile # To extract zipfiles\n",
                "import urllib3 \n",
                "urllib3.disable_warnings() # Disable warnings for data download via API\n",
                "\n",
                "# CDS API\n",
                "import cdsapi\n",
                "\n",
                "# Libraries for working with multi-dimensional arrays\n",
                "import numpy as np\n",
                "import xarray as xr\n",
                "import pandas as pd\n",
                "\n",
                "# Libraries for plotting and visualising data\n",
                "import matplotlib.path as mpath\n",
                "import matplotlib.pyplot as plt\n",
                "import cartopy.crs as ccrs\n",
                "from cartopy.mpl.gridliner import LONGITUDE_FORMATTER, LATITUDE_FORMATTER\n",
                "import cartopy.feature as cfeature"
            ]
        },
        {
            "cell_type": "markdown",
            "metadata": {
                "editable": true,
                "slideshow": {
                    "slide_type": ""
                },
                "tags": [
                    "directory"
                ]
            },
            "source": [
                "### Specify data directory"
            ]
        },
        {
            "cell_type": "code",
            "execution_count": 5,
            "metadata": {
                "editable": true,
                "slideshow": {
                    "slide_type": ""
                },
                "tags": [
                    "directory"
                ]
            },
            "outputs": [],
            "source": [
                "# Directory to store data\n",
                "# Please ensure that data_dir is a location where you have write permissions\n",
                "DATADIR = './data_dir/'\n",
                "# Create this directory if it doesn't exist\n",
                "os.makedirs(DATADIR, exist_ok=True)"
            ]
        },
        {
            "cell_type": "markdown",
            "metadata": {
                "editable": true,
                "slideshow": {
                    "slide_type": ""
                },
                "tags": [
                    "request"
                ]
            },
            "source": [
                "## Explore data\n",
                "\n",
                "For the sake of simplicity, and to facilitate data download, the tutorial will make use of some of the coarser resolution models that have a smaller data size. It is nevertheless only a choice for this exercise and not a recommendation (since ideally all models, including those with highest resolution, should be used). Many more models are available on the CDS, and when calculating an ensemble of models, it is best practice to use as many as possible for a more reliable output. See [here](https://confluence.ecmwf.int/display/CKB/CMIP6%3A+Global+climate+projections#CMIP6:Globalclimateprojections-Models,gridsandpressurelevels) a full list of models included in the CDS-CMIP6 dataset."
            ]
        },
        {
            "cell_type": "markdown",
            "metadata": {},
            "source": [
                "### Search for the data"
            ]
        },
        {
            "cell_type": "markdown",
            "metadata": {
                "editable": true,
                "slideshow": {
                    "slide_type": ""
                },
                "tags": [
                    "request"
                ]
            },
            "source": [
                "Having selected the [CMIP6 global climate projections](https://cds.climate.copernicus.eu/datasets/projections-cmip6?tab=overview) dataset, we now need to specify what product type, variables, temporal and geographic coverage we are interested in. These can all be selected in the **\"Download data\"** tab. In this tab a form appears in which we will select the following parameters to download:\n",
                "\n",
                ":::{dropdown} Parameters of data to download\n",
                "  \n",
                "- Data: `CMIP6 global climate projections of near-surface air temperature`\n",
                "- Experiments: `Historical`, `SSP1-2.6`, `SSP2-4.5`, `SSP5-8.5`\n",
                "- Models: 7 models from Germany, France, UK, Japan and Russia\n",
                "- Temporal range: `Historical: 1850 - 2014`. `Scenarios: 2015 - 2100`\n",
                "- Spatial coverage: `Global`\n",
                "- Format: `NetCDF`, compressed into zip files\n",
                "\n",
                ":::\n",
                "\n",
                "At the end of the download form, select **\"Show API request\"**. This will reveal a block of code, which you can simply copy and paste into a cell of your Jupyter Notebook (see cell below). Having copied the API request into the cell below, running this will retrieve and download the data you requested into your local directory.\n",
                "\n",
                ":::{warning}\n",
                "\n",
                "Please remember to accept the terms and conditions of the dataset, at the bottom of the CDS download form!\n",
                "\n",
                ":::"
            ]
        },
        {
            "cell_type": "markdown",
            "metadata": {},
            "source": [
                "### Download the data"
            ]
        },
        {
            "cell_type": "markdown",
            "metadata": {
                "editable": true,
                "slideshow": {
                    "slide_type": ""
                },
                "tags": [
                    "request"
                ]
            },
            "source": [
                " Below, we loop through multiple data requests. These include data for different models and scenarios. It is not possible to specify multiple models in one data request as their spatial resolution varies.\n",
                "\n",
                "We will download monthly aggregated data. These are disseminated as netcdf files within a zip archive.\n",
                "\n",
                "In order to loop through the various experiments and models in our data requests, we will specify them as Python 'lists' here:"
            ]
        },
        {
            "cell_type": "code",
            "execution_count": 7,
            "metadata": {
                "editable": true,
                "slideshow": {
                    "slide_type": ""
                },
                "tags": [
                    "request"
                ]
            },
            "outputs": [],
            "source": [
                "experiments = ['historical', 'ssp126', 'ssp245', 'ssp585']"
            ]
        },
        {
            "cell_type": "code",
            "execution_count": 8,
            "metadata": {
                "editable": true,
                "slideshow": {
                    "slide_type": ""
                },
                "tags": [
                    "request"
                ]
            },
            "outputs": [],
            "source": [
                "models = ['hadgem3_gc31_ll', 'inm_cm5_0', 'inm_cm4_8', 'ipsl_cm6a_lr', \n",
                "          'miroc_es2l', 'mpi_esm1_2_lr', 'ukesm1_0_ll']"
            ]
        },
        {
            "cell_type": "markdown",
            "metadata": {
                "editable": true,
                "slideshow": {
                    "slide_type": ""
                },
                "tags": [
                    "request"
                ]
            },
            "source": [
                ":::{note}\n",
                "\n",
                "Note that these are a selection of the lightest models (in terms of data volume), to facilitate download for the sake of this exercise. There are many [more models](https://cds.climate.copernicus.eu/datasets/projections-cmip6?tab=overview\") available on the CDS.\n",
                "\n",
                ":::"
            ]
        },
        {
            "cell_type": "markdown",
            "metadata": {
                "editable": true,
                "slideshow": {
                    "slide_type": ""
                },
                "tags": [
                    "request"
                ]
            },
            "source": [
                "Now we can download the data for each model and experiment sequentially. We will do this separately for the historical experiments and for the various future scenarios, given that they refer to two different time periods."
            ]
        },
        {
            "cell_type": "code",
            "execution_count": 9,
            "metadata": {
                "editable": true,
                "slideshow": {
                    "slide_type": ""
                },
                "tags": [
                    "request"
                ]
            },
            "outputs": [
                {
                    "name": "stderr",
                    "output_type": "stream",
                    "text": [
                        "2025-07-10 10:22:10,419 INFO [2024-09-26T00:00:00] Watch our [Forum](https://forum.ecmwf.int/) for Announcements, news and other discussed topics.\n",
                        "2025-07-10 10:22:11,341 INFO Request ID is d1c5881d-4936-4466-bc9b-7d3c48d65924\n",
                        "2025-07-10 10:22:11,593 INFO status has been updated to accepted\n",
                        "2025-07-10 10:22:17,013 INFO status has been updated to running\n",
                        "2025-07-10 10:23:27,757 INFO status has been updated to successful\n"
                    ]
                },
                {
                    "data": {
                        "application/vnd.jupyter.widget-view+json": {
                            "model_id": "8ce9058adc1b4c7e83cc4cb90b23de1c",
                            "version_major": 2,
                            "version_minor": 0
                        },
                        "text/plain": [
                            "f3aa26d873f8942bac9fbe2a0606b73b.zip:   0%|          | 0.00/103M [00:00<?, ?B/s]"
                        ]
                    },
                    "metadata": {},
                    "output_type": "display_data"
                },
                {
                    "name": "stderr",
                    "output_type": "stream",
                    "text": [
                        "2025-07-10 10:24:08,486 INFO Request ID is 8a781dfc-073c-4eff-8f42-1684de3813ea\n",
                        "2025-07-10 10:24:08,559 INFO status has been updated to accepted\n",
                        "2025-07-10 10:24:17,478 INFO status has been updated to running\n",
                        "2025-07-10 10:24:59,056 INFO status has been updated to successful\n"
                    ]
                },
                {
                    "data": {
                        "application/vnd.jupyter.widget-view+json": {
                            "model_id": "6ae87a22b1624c12a36beaa13b93fee1",
                            "version_major": 2,
                            "version_minor": 0
                        },
                        "text/plain": [
                            "e8a37701974247b107de830eff4640b8.zip:   0%|          | 0.00/94.2M [00:00<?, ?B/s]"
                        ]
                    },
                    "metadata": {},
                    "output_type": "display_data"
                },
                {
                    "name": "stderr",
                    "output_type": "stream",
                    "text": [
                        "2025-07-10 10:25:13,872 INFO Request ID is 6cbc4ea5-c92f-46de-8c90-4b3b4705701c\n",
                        "2025-07-10 10:25:14,086 INFO status has been updated to accepted\n",
                        "2025-07-10 10:25:27,884 INFO status has been updated to running\n",
                        "2025-07-10 10:26:04,302 INFO status has been updated to successful\n"
                    ]
                },
                {
                    "data": {
                        "application/vnd.jupyter.widget-view+json": {
                            "model_id": "5ee13cfab7684ec58d9139686b248bab",
                            "version_major": 2,
                            "version_minor": 0
                        },
                        "text/plain": [
                            "bbe496751b640d6185a3546a00c0beb1.zip:   0%|          | 0.00/94.3M [00:00<?, ?B/s]"
                        ]
                    },
                    "metadata": {},
                    "output_type": "display_data"
                },
                {
                    "name": "stderr",
                    "output_type": "stream",
                    "text": [
                        "2025-07-10 10:26:34,562 INFO Request ID is ab6d5273-b2ba-4ad9-ad9e-a0b9cb2a6efb\n",
                        "2025-07-10 10:26:34,651 INFO status has been updated to accepted\n",
                        "2025-07-10 10:26:48,299 INFO status has been updated to running\n",
                        "2025-07-10 10:26:56,114 INFO status has been updated to accepted\n",
                        "2025-07-10 10:27:07,601 INFO status has been updated to successful\n"
                    ]
                },
                {
                    "data": {
                        "application/vnd.jupyter.widget-view+json": {
                            "model_id": "a17f6a4741fa47c6be5a3814339e6940",
                            "version_major": 2,
                            "version_minor": 0
                        },
                        "text/plain": [
                            "d36b9c093c54f109877e13f10845bf0.zip:   0%|          | 0.00/92.8M [00:00<?, ?B/s]"
                        ]
                    },
                    "metadata": {},
                    "output_type": "display_data"
                },
                {
                    "name": "stderr",
                    "output_type": "stream",
                    "text": [
                        "2025-07-10 10:27:20,180 INFO Request ID is 35dbd444-45d8-440e-8281-6c1b5b07f0b3\n",
                        "2025-07-10 10:27:20,261 INFO status has been updated to accepted\n",
                        "2025-07-10 10:27:53,173 INFO status has been updated to successful\n"
                    ]
                },
                {
                    "data": {
                        "application/vnd.jupyter.widget-view+json": {
                            "model_id": "f57df505a0b44738913cc8cbdc777dd9",
                            "version_major": 2,
                            "version_minor": 0
                        },
                        "text/plain": [
                            "7c7b4ad3bc6b6152d829001a17a1ef4a.zip:   0%|          | 0.00/36.5M [00:00<?, ?B/s]"
                        ]
                    },
                    "metadata": {},
                    "output_type": "display_data"
                },
                {
                    "name": "stderr",
                    "output_type": "stream",
                    "text": [
                        "2025-07-10 10:28:06,979 INFO Request ID is 04a38876-98ce-4e03-8eae-011f06ec3e19\n",
                        "2025-07-10 10:28:07,050 INFO status has been updated to accepted\n",
                        "2025-07-10 10:28:15,533 INFO status has been updated to running\n",
                        "2025-07-10 10:28:57,064 INFO status has been updated to successful\n"
                    ]
                },
                {
                    "data": {
                        "application/vnd.jupyter.widget-view+json": {
                            "model_id": "53b6176bec7149e1ba7c324f3aaf1816",
                            "version_major": 2,
                            "version_minor": 0
                        },
                        "text/plain": [
                            "d0dfe01d1f3cfff501de15a0b1c6b599.zip:   0%|          | 0.00/58.9M [00:00<?, ?B/s]"
                        ]
                    },
                    "metadata": {},
                    "output_type": "display_data"
                },
                {
                    "name": "stderr",
                    "output_type": "stream",
                    "text": [
                        "2025-07-10 10:29:05,039 INFO Request ID is 19808302-07ea-4d29-98fa-f9f1d23ff6bb\n",
                        "2025-07-10 10:29:05,170 INFO status has been updated to accepted\n",
                        "2025-07-10 10:29:26,769 INFO status has been updated to running\n",
                        "2025-07-10 10:30:21,201 INFO status has been updated to successful\n"
                    ]
                },
                {
                    "data": {
                        "application/vnd.jupyter.widget-view+json": {
                            "model_id": "8343d2173202423687b1097b11824d41",
                            "version_major": 2,
                            "version_minor": 0
                        },
                        "text/plain": [
                            "232a4b1c2fe0d4a2862d4a86defd8ad1.zip:   0%|          | 0.00/207M [00:00<?, ?B/s]"
                        ]
                    },
                    "metadata": {},
                    "output_type": "display_data"
                }
            ],
            "source": [
                "# DOWNLOAD DATA FOR HISTORICAL PERIOD\n",
                "\n",
                "c = cdsapi.Client()\n",
                "\n",
                "for j in models:\n",
                "    c.retrieve(\n",
                "        'projections-cmip6',\n",
                "        {\n",
                "            'download_format': 'zip',\n",
                "            'data_format': 'netcdf',\n",
                "            'temporal_resolution': 'monthly',\n",
                "            'experiment': 'historical',\n",
                "            'level': 'single_levels',\n",
                "            'variable': 'near_surface_air_temperature',\n",
                "            'model': f'{j}',\n",
                "            'year': [\"1850\", \"1851\", \"1852\", \"1853\", \"1854\", \"1855\",\n",
                "                    \"1856\", \"1857\", \"1858\", \"1859\", \"1860\", \"1861\",\n",
                "                    \"1862\", \"1863\", \"1864\", \"1865\", \"1866\", \"1867\",\n",
                "                    \"1868\", \"1869\", \"1870\", \"1871\", \"1872\", \"1873\",\n",
                "                    \"1874\", \"1875\", \"1876\", \"1877\", \"1878\", \"1879\",\n",
                "                    \"1880\", \"1881\", \"1882\", \"1883\", \"1884\", \"1885\",\n",
                "                    \"1886\", \"1887\", \"1888\", \"1889\", \"1890\", \"1891\",\n",
                "                    \"1892\", \"1893\", \"1894\", \"1895\", \"1896\", \"1897\",\n",
                "                    \"1898\", \"1899\", \"1900\", \"1901\", \"1902\", \"1903\",\n",
                "                    \"1904\", \"1905\", \"1906\", \"1907\", \"1908\", \"1909\",\n",
                "                    \"1910\", \"1911\", \"1912\", \"1913\", \"1914\", \"1915\",\n",
                "                    \"1916\", \"1917\", \"1918\", \"1919\", \"1920\", \"1921\",\n",
                "                    \"1922\", \"1923\", \"1924\", \"1925\", \"1926\", \"1927\",\n",
                "                    \"1928\", \"1929\", \"1930\", \"1931\", \"1932\", \"1933\",\n",
                "                    \"1934\", \"1935\", \"1936\", \"1937\", \"1938\", \"1939\",\n",
                "                    \"1940\", \"1941\", \"1942\", \"1943\", \"1944\", \"1945\",\n",
                "                    \"1946\", \"1947\", \"1948\", \"1949\", \"1950\", \"1951\",\n",
                "                    \"1952\", \"1953\", \"1954\", \"1955\", \"1956\", \"1957\",\n",
                "                    \"1958\", \"1959\", \"1960\", \"1961\", \"1962\", \"1963\",\n",
                "                    \"1964\", \"1965\", \"1966\", \"1967\", \"1968\", \"1969\",\n",
                "                    \"1970\", \"1971\", \"1972\", \"1973\", \"1974\", \"1975\",\n",
                "                    \"1976\", \"1977\", \"1978\", \"1979\", \"1980\", \"1981\",\n",
                "                    \"1982\", \"1983\", \"1984\", \"1985\", \"1986\", \"1987\",\n",
                "                    \"1988\", \"1989\", \"1990\", \"1991\", \"1992\", \"1993\",\n",
                "                    \"1994\", \"1995\", \"1996\", \"1997\", \"1998\", \"1999\",\n",
                "                    \"2000\", \"2001\", \"2002\", \"2003\", \"2004\", \"2005\",\n",
                "                    \"2006\", \"2007\", \"2008\", \"2009\", \"2010\", \"2011\",\n",
                "                    \"2012\", \"2013\", \"2014\"],\n",
                "            \"month\": [\"01\", \"02\", \"03\", \"04\", \"05\", \"06\",\n",
                "                      \"07\", \"08\", \"09\", \"10\", \"11\", \"12\"]    \n",
                "        },\n",
                "        f'{DATADIR}cmip6_monthly_1850-2014_historical_{j}.zip')"
            ]
        },
        {
            "cell_type": "code",
            "execution_count": 10,
            "metadata": {
                "editable": true,
                "slideshow": {
                    "slide_type": ""
                },
                "tags": [
                    "request"
                ]
            },
            "outputs": [
                {
                    "name": "stderr",
                    "output_type": "stream",
                    "text": [
                        "2025-07-10 10:41:27,524 INFO [2024-09-26T00:00:00] Watch our [Forum](https://forum.ecmwf.int/) for Announcements, news and other discussed topics.\n",
                        "2025-07-10 10:41:28,207 INFO Request ID is 14183f12-1981-4ccf-a44d-3061b3f85238\n",
                        "2025-07-10 10:41:28,398 INFO status has been updated to accepted\n",
                        "2025-07-10 10:42:01,302 INFO status has been updated to running\n",
                        "2025-07-10 10:42:44,186 INFO status has been updated to successful\n"
                    ]
                },
                {
                    "data": {
                        "application/vnd.jupyter.widget-view+json": {
                            "model_id": "81bf3f6307204cfbb1b6b66967ba1bda",
                            "version_major": 2,
                            "version_minor": 0
                        },
                        "text/plain": [
                            "88de36221697baac09cbbf8def6b5ed4.zip:   0%|          | 0.00/53.8M [00:00<?, ?B/s]"
                        ]
                    },
                    "metadata": {},
                    "output_type": "display_data"
                },
                {
                    "name": "stderr",
                    "output_type": "stream",
                    "text": [
                        "2025-07-10 10:42:55,747 INFO Request ID is 2d2bf80d-e701-49fe-b523-ae43dbfa10cb\n",
                        "2025-07-10 10:42:55,851 INFO status has been updated to accepted\n",
                        "2025-07-10 10:43:09,675 INFO status has been updated to running\n",
                        "2025-07-10 10:43:28,845 INFO status has been updated to successful\n"
                    ]
                },
                {
                    "data": {
                        "application/vnd.jupyter.widget-view+json": {
                            "model_id": "78af34ed5352449d9fa158b5228d5400",
                            "version_major": 2,
                            "version_minor": 0
                        },
                        "text/plain": [
                            "4ad79a5617d152b894ef8391fb4b3002.zip:   0%|          | 0.00/50.6M [00:00<?, ?B/s]"
                        ]
                    },
                    "metadata": {},
                    "output_type": "display_data"
                },
                {
                    "name": "stderr",
                    "output_type": "stream",
                    "text": [
                        "2025-07-10 10:43:36,798 INFO Request ID is f212f1e8-d9bb-4886-adbd-8c7604658c3a\n",
                        "2025-07-10 10:43:36,860 INFO status has been updated to accepted\n",
                        "2025-07-10 10:43:50,505 INFO status has been updated to running\n",
                        "2025-07-10 10:44:53,020 INFO status has been updated to successful\n"
                    ]
                },
                {
                    "data": {
                        "application/vnd.jupyter.widget-view+json": {
                            "model_id": "29057181dae3494481114c24012f2606",
                            "version_major": 2,
                            "version_minor": 0
                        },
                        "text/plain": [
                            "bd17985269e61f1947a095bea56356aa.zip:   0%|          | 0.00/50.6M [00:00<?, ?B/s]"
                        ]
                    },
                    "metadata": {},
                    "output_type": "display_data"
                },
                {
                    "name": "stderr",
                    "output_type": "stream",
                    "text": [
                        "2025-07-10 10:45:01,370 INFO Request ID is 4cc2aaeb-0f93-46c0-afb5-806c9f05b5c0\n",
                        "2025-07-10 10:45:01,934 INFO status has been updated to accepted\n",
                        "2025-07-10 10:45:08,357 INFO status has been updated to running\n",
                        "2025-07-10 10:45:25,047 INFO status has been updated to successful\n"
                    ]
                },
                {
                    "data": {
                        "application/vnd.jupyter.widget-view+json": {
                            "model_id": "38d15f6249f74f7c9a68b9e98ff13382",
                            "version_major": 2,
                            "version_minor": 0
                        },
                        "text/plain": [
                            "5405a0e6ff6ec00130c06962805bb295.zip:   0%|          | 0.00/48.3M [00:00<?, ?B/s]"
                        ]
                    },
                    "metadata": {},
                    "output_type": "display_data"
                },
                {
                    "name": "stderr",
                    "output_type": "stream",
                    "text": [
                        "2025-07-10 10:45:34,124 INFO Request ID is 9748fa4d-8994-479e-ad63-e5ce39f87536\n",
                        "2025-07-10 10:45:34,195 INFO status has been updated to accepted\n",
                        "2025-07-10 10:45:48,279 INFO status has been updated to running\n",
                        "2025-07-10 10:45:55,945 INFO status has been updated to accepted\n",
                        "2025-07-10 10:46:07,434 INFO status has been updated to successful\n"
                    ]
                },
                {
                    "data": {
                        "application/vnd.jupyter.widget-view+json": {
                            "model_id": "022ac926cc63432bb7d8b42ed04ab69a",
                            "version_major": 2,
                            "version_minor": 0
                        },
                        "text/plain": [
                            "31b6a1468173dbd2e81a687df080c59d.zip:   0%|          | 0.00/19.1M [00:00<?, ?B/s]"
                        ]
                    },
                    "metadata": {},
                    "output_type": "display_data"
                },
                {
                    "name": "stderr",
                    "output_type": "stream",
                    "text": [
                        "2025-07-10 10:46:11,947 INFO Request ID is 3a1e0d08-d5f9-4c7f-ad60-d8046de650cf\n",
                        "2025-07-10 10:46:12,029 INFO status has been updated to accepted\n",
                        "2025-07-10 10:46:20,562 INFO status has been updated to running\n",
                        "2025-07-10 10:46:44,905 INFO status has been updated to successful\n"
                    ]
                },
                {
                    "data": {
                        "application/vnd.jupyter.widget-view+json": {
                            "model_id": "fc62f70285204bcfb28fa8881d8b7743",
                            "version_major": 2,
                            "version_minor": 0
                        },
                        "text/plain": [
                            "9ca443250f51c03959f08b550a136315.zip:   0%|          | 0.00/30.5M [00:00<?, ?B/s]"
                        ]
                    },
                    "metadata": {},
                    "output_type": "display_data"
                },
                {
                    "name": "stderr",
                    "output_type": "stream",
                    "text": [
                        "2025-07-10 10:46:54,873 INFO Request ID is 2c16b7e8-69e3-4856-b00a-635da50c1b66\n",
                        "2025-07-10 10:46:55,010 INFO status has been updated to accepted\n",
                        "2025-07-10 10:47:03,849 INFO status has been updated to running\n",
                        "2025-07-10 10:47:45,426 INFO status has been updated to successful\n"
                    ]
                },
                {
                    "data": {
                        "application/vnd.jupyter.widget-view+json": {
                            "model_id": "da832c29f945408baab98424bfa94d2f",
                            "version_major": 2,
                            "version_minor": 0
                        },
                        "text/plain": [
                            "42f303884ce64859b2f9508c4d7c3172.zip:   0%|          | 0.00/53.9M [00:00<?, ?B/s]"
                        ]
                    },
                    "metadata": {},
                    "output_type": "display_data"
                },
                {
                    "name": "stderr",
                    "output_type": "stream",
                    "text": [
                        "2025-07-10 10:47:54,083 INFO Request ID is e741653c-9256-4982-8c4c-3375e67bf104\n",
                        "2025-07-10 10:47:54,169 INFO status has been updated to accepted\n",
                        "2025-07-10 10:48:03,082 INFO status has been updated to running\n",
                        "2025-07-10 10:48:28,777 INFO status has been updated to successful\n"
                    ]
                },
                {
                    "data": {
                        "application/vnd.jupyter.widget-view+json": {
                            "model_id": "3318f98cbb784c598a9380652a7e43c0",
                            "version_major": 2,
                            "version_minor": 0
                        },
                        "text/plain": [
                            "9d33f316eaed56fde8d06ce366e32293.zip:   0%|          | 0.00/53.8M [00:00<?, ?B/s]"
                        ]
                    },
                    "metadata": {},
                    "output_type": "display_data"
                },
                {
                    "name": "stderr",
                    "output_type": "stream",
                    "text": [
                        "2025-07-10 10:48:55,485 INFO Request ID is a9d12a90-31be-4cec-a251-44f12c9f94cc\n",
                        "2025-07-10 10:48:55,576 INFO status has been updated to accepted\n",
                        "2025-07-10 10:49:04,154 INFO status has been updated to running\n",
                        "2025-07-10 10:49:28,453 INFO status has been updated to successful\n"
                    ]
                },
                {
                    "data": {
                        "application/vnd.jupyter.widget-view+json": {
                            "model_id": "8431777a7b5045ae87b21774e32ff56c",
                            "version_major": 2,
                            "version_minor": 0
                        },
                        "text/plain": [
                            "b99f7d36292ee51fc635ab5a280a851b.zip:   0%|          | 0.00/50.6M [00:00<?, ?B/s]"
                        ]
                    },
                    "metadata": {},
                    "output_type": "display_data"
                },
                {
                    "name": "stderr",
                    "output_type": "stream",
                    "text": [
                        "2025-07-10 10:49:38,448 INFO Request ID is 260fd634-04c1-4017-9f88-50082f94b297\n",
                        "2025-07-10 10:49:38,533 INFO status has been updated to accepted\n",
                        "2025-07-10 10:49:52,159 INFO status has been updated to running\n",
                        "2025-07-10 10:50:11,319 INFO status has been updated to successful\n"
                    ]
                },
                {
                    "data": {
                        "application/vnd.jupyter.widget-view+json": {
                            "model_id": "d5c1b12a3c314027914c617d7951d33e",
                            "version_major": 2,
                            "version_minor": 0
                        },
                        "text/plain": [
                            "44b210b74bbccfda1e9a09e128f3adea.zip:   0%|          | 0.00/50.6M [00:00<?, ?B/s]"
                        ]
                    },
                    "metadata": {},
                    "output_type": "display_data"
                },
                {
                    "name": "stderr",
                    "output_type": "stream",
                    "text": [
                        "2025-07-10 10:50:23,618 INFO Request ID is 7752b683-d0cd-4571-8f45-34e25a2e0ef0\n",
                        "2025-07-10 10:50:23,687 INFO status has been updated to accepted\n",
                        "2025-07-10 10:50:45,038 INFO status has been updated to running\n",
                        "2025-07-10 10:50:56,509 INFO status has been updated to successful\n"
                    ]
                },
                {
                    "data": {
                        "application/vnd.jupyter.widget-view+json": {
                            "model_id": "00fa7ed7c5a74fa49f506557496ef577",
                            "version_major": 2,
                            "version_minor": 0
                        },
                        "text/plain": [
                            "7d0ca55980bd5cd07512038428798c80.zip:   0%|          | 0.00/48.2M [00:00<?, ?B/s]"
                        ]
                    },
                    "metadata": {},
                    "output_type": "display_data"
                },
                {
                    "name": "stderr",
                    "output_type": "stream",
                    "text": [
                        "2025-07-10 10:51:04,427 INFO Request ID is 065b550a-e8d2-4392-89aa-28bcc430b0ff\n",
                        "2025-07-10 10:51:04,515 INFO status has been updated to accepted\n",
                        "2025-07-10 10:51:18,419 INFO status has been updated to running\n",
                        "2025-07-10 10:51:37,535 INFO status has been updated to successful\n"
                    ]
                },
                {
                    "data": {
                        "application/vnd.jupyter.widget-view+json": {
                            "model_id": "5223bbf2987b4f75985ce3a45e57a042",
                            "version_major": 2,
                            "version_minor": 0
                        },
                        "text/plain": [
                            "3d77f8f5aaf5af56fd2b8c18ce2198ed.zip:   0%|          | 0.00/19.1M [00:00<?, ?B/s]"
                        ]
                    },
                    "metadata": {},
                    "output_type": "display_data"
                },
                {
                    "name": "stderr",
                    "output_type": "stream",
                    "text": [
                        "2025-07-10 10:51:46,695 INFO Request ID is 22948edb-a869-4268-8697-1d8a1a2c54b4\n",
                        "2025-07-10 10:51:47,107 INFO status has been updated to accepted\n",
                        "2025-07-10 10:51:55,758 INFO status has been updated to running\n",
                        "2025-07-10 10:52:20,111 INFO status has been updated to successful\n"
                    ]
                },
                {
                    "data": {
                        "application/vnd.jupyter.widget-view+json": {
                            "model_id": "2002be4f59ca45c0938994b788f64e70",
                            "version_major": 2,
                            "version_minor": 0
                        },
                        "text/plain": [
                            "4600f41fcec0948992a882df5f0605d3.zip:   0%|          | 0.00/30.5M [00:00<?, ?B/s]"
                        ]
                    },
                    "metadata": {},
                    "output_type": "display_data"
                },
                {
                    "name": "stderr",
                    "output_type": "stream",
                    "text": [
                        "2025-07-10 10:52:29,074 INFO Request ID is 02f9b3b6-437f-4402-9003-ae26ab6f3c89\n",
                        "2025-07-10 10:52:29,138 INFO status has been updated to accepted\n",
                        "2025-07-10 10:52:43,035 INFO status has been updated to running\n",
                        "2025-07-10 10:53:45,167 INFO status has been updated to successful\n"
                    ]
                },
                {
                    "data": {
                        "application/vnd.jupyter.widget-view+json": {
                            "model_id": "bc636297a1a34d4fb77427d988a5a781",
                            "version_major": 2,
                            "version_minor": 0
                        },
                        "text/plain": [
                            "19edb6bbbc385174dfeff6c5a67a8d18.zip:   0%|          | 0.00/108M [00:00<?, ?B/s]"
                        ]
                    },
                    "metadata": {},
                    "output_type": "display_data"
                },
                {
                    "name": "stderr",
                    "output_type": "stream",
                    "text": [
                        "2025-07-10 10:54:17,843 INFO Request ID is 404cd3be-ef90-497b-93fc-2d09aaa56f6b\n",
                        "2025-07-10 10:54:17,949 INFO status has been updated to accepted\n",
                        "2025-07-10 10:54:26,517 INFO status has been updated to running\n",
                        "2025-07-10 10:54:50,845 INFO status has been updated to successful\n"
                    ]
                },
                {
                    "data": {
                        "application/vnd.jupyter.widget-view+json": {
                            "model_id": "d7c5d6a852004f60a3ef4147dffc8b6b",
                            "version_major": 2,
                            "version_minor": 0
                        },
                        "text/plain": [
                            "d0f2eecf49378206f249358256410899.zip:   0%|          | 0.00/53.7M [00:00<?, ?B/s]"
                        ]
                    },
                    "metadata": {},
                    "output_type": "display_data"
                },
                {
                    "name": "stderr",
                    "output_type": "stream",
                    "text": [
                        "2025-07-10 10:55:04,777 INFO Request ID is d20baa69-30b4-4d90-bde3-a8c20c3f2e2f\n",
                        "2025-07-10 10:55:04,956 INFO status has been updated to accepted\n",
                        "2025-07-10 10:55:14,056 INFO status has been updated to running\n",
                        "2025-07-10 10:56:21,510 INFO status has been updated to successful\n"
                    ]
                },
                {
                    "data": {
                        "application/vnd.jupyter.widget-view+json": {
                            "model_id": "0a23a8b6abca46c0b9b3b34f80520000",
                            "version_major": 2,
                            "version_minor": 0
                        },
                        "text/plain": [
                            "f6d6c20b0627044caf072290f547952f.zip:   0%|          | 0.00/66.1M [00:00<?, ?B/s]"
                        ]
                    },
                    "metadata": {},
                    "output_type": "display_data"
                },
                {
                    "name": "stderr",
                    "output_type": "stream",
                    "text": [
                        "2025-07-10 10:56:37,519 INFO Request ID is 54beaf56-504b-4351-bbd8-3deda3159403\n",
                        "2025-07-10 10:56:37,604 INFO status has been updated to accepted\n",
                        "2025-07-10 10:56:46,456 INFO status has been updated to running\n",
                        "2025-07-10 10:57:10,759 INFO status has been updated to successful\n"
                    ]
                },
                {
                    "data": {
                        "application/vnd.jupyter.widget-view+json": {
                            "model_id": "179dd95e6aed42658a8337ac2066200a",
                            "version_major": 2,
                            "version_minor": 0
                        },
                        "text/plain": [
                            "c7382c3920eb626dd3bade5d9a7e53db.zip:   0%|          | 0.00/50.5M [00:00<?, ?B/s]"
                        ]
                    },
                    "metadata": {},
                    "output_type": "display_data"
                },
                {
                    "name": "stderr",
                    "output_type": "stream",
                    "text": [
                        "2025-07-10 10:57:21,409 INFO Request ID is 9ab9cecf-ef9a-4d61-95a9-99a23abe4cba\n",
                        "2025-07-10 10:57:21,479 INFO status has been updated to accepted\n",
                        "2025-07-10 10:57:30,124 INFO status has been updated to running\n",
                        "2025-07-10 10:57:54,433 INFO status has been updated to successful\n"
                    ]
                },
                {
                    "data": {
                        "application/vnd.jupyter.widget-view+json": {
                            "model_id": "b0f2554e3c5c4c3fbcddff8b63671cb8",
                            "version_major": 2,
                            "version_minor": 0
                        },
                        "text/plain": [
                            "6a0846a04c983c06f07a564514a37edd.zip:   0%|          | 0.00/48.2M [00:00<?, ?B/s]"
                        ]
                    },
                    "metadata": {},
                    "output_type": "display_data"
                },
                {
                    "name": "stderr",
                    "output_type": "stream",
                    "text": [
                        "2025-07-10 10:58:02,409 INFO Request ID is 90d6ed13-5ab0-4910-ab22-8e4a898a1325\n",
                        "2025-07-10 10:58:02,522 INFO status has been updated to accepted\n",
                        "2025-07-10 10:58:11,124 INFO status has been updated to running\n",
                        "2025-07-10 10:58:35,719 INFO status has been updated to successful\n"
                    ]
                },
                {
                    "data": {
                        "application/vnd.jupyter.widget-view+json": {
                            "model_id": "b53fbfc078734db2809f36123bc74fe1",
                            "version_major": 2,
                            "version_minor": 0
                        },
                        "text/plain": [
                            "908ef86dbb44e7fffceef1f0924eab14.zip:   0%|          | 0.00/19.1M [00:00<?, ?B/s]"
                        ]
                    },
                    "metadata": {},
                    "output_type": "display_data"
                },
                {
                    "name": "stderr",
                    "output_type": "stream",
                    "text": [
                        "2025-07-10 10:58:41,631 INFO Request ID is 1ba3e0f4-c0ee-40cc-9364-ad42fc44f1a5\n",
                        "2025-07-10 10:58:41,703 INFO status has been updated to accepted\n",
                        "2025-07-10 10:58:50,112 INFO status has been updated to running\n",
                        "2025-07-10 10:59:14,676 INFO status has been updated to successful\n"
                    ]
                },
                {
                    "data": {
                        "application/vnd.jupyter.widget-view+json": {
                            "model_id": "0f7c1e7fb4f44296a489b3b1b5cbcdc2",
                            "version_major": 2,
                            "version_minor": 0
                        },
                        "text/plain": [
                            "7c3d773fbb73ef019d9fce25db7b0484.zip:   0%|          | 0.00/30.5M [00:00<?, ?B/s]"
                        ]
                    },
                    "metadata": {},
                    "output_type": "display_data"
                },
                {
                    "name": "stderr",
                    "output_type": "stream",
                    "text": [
                        "2025-07-10 10:59:19,284 INFO Request ID is c4b7b269-5a80-4ed4-ad0f-27e0ab7e71bc\n",
                        "2025-07-10 10:59:19,367 INFO status has been updated to accepted\n",
                        "2025-07-10 10:59:27,824 INFO status has been updated to running\n",
                        "2025-07-10 10:59:52,099 INFO status has been updated to successful\n"
                    ]
                },
                {
                    "data": {
                        "application/vnd.jupyter.widget-view+json": {
                            "model_id": "3af8cce185be4f7f9220e42279704daf",
                            "version_major": 2,
                            "version_minor": 0
                        },
                        "text/plain": [
                            "14e27ef0274c2e9328c34180fd017446.zip:   0%|          | 0.00/53.8M [00:00<?, ?B/s]"
                        ]
                    },
                    "metadata": {},
                    "output_type": "display_data"
                }
            ],
            "source": [
                "# DOWNLOAD DATA FOR FUTURE SCENARIOS\n",
                "\n",
                "c = cdsapi.Client()\n",
                "\n",
                "for i in experiments[1:]:\n",
                "    for j in models:\n",
                "        c.retrieve(\n",
                "            'projections-cmip6',\n",
                "            {\n",
                "                'download_format': 'zip',\n",
                "                'data_format': 'netcdf',\n",
                "                'temporal_resolution': 'monthly',\n",
                "                'experiment': f'{i}',\n",
                "                'level': 'single_levels',\n",
                "                'variable': 'near_surface_air_temperature',\n",
                "                'model': f'{j}',\n",
                "                'year': [\"2015\", \"2016\", \"2017\", \"2018\", \"2019\", \"2020\",\n",
                "                         \"2021\", \"2022\", \"2023\", \"2024\", \"2025\", \"2026\",\n",
                "                         \"2027\", \"2028\", \"2029\", \"2030\", \"2031\", \"2032\",\n",
                "                         \"2033\", \"2034\", \"2035\", \"2036\", \"2037\", \"2038\",\n",
                "                         \"2039\", \"2040\", \"2041\", \"2042\", \"2043\", \"2044\",\n",
                "                         \"2045\", \"2046\", \"2047\", \"2048\", \"2049\", \"2050\",\n",
                "                         \"2051\", \"2052\", \"2053\", \"2054\", \"2055\", \"2056\",\n",
                "                         \"2057\", \"2058\", \"2059\", \"2060\", \"2061\", \"2062\",\n",
                "                         \"2063\", \"2064\", \"2065\", \"2066\", \"2067\", \"2068\",\n",
                "                         \"2069\", \"2070\", \"2071\", \"2072\", \"2073\", \"2074\",\n",
                "                         \"2075\", \"2076\", \"2077\", \"2078\", \"2079\", \"2080\",\n",
                "                         \"2081\", \"2082\", \"2083\", \"2084\", \"2085\", \"2086\",\n",
                "                         \"2087\", \"2088\", \"2089\", \"2090\", \"2091\", \"2092\",\n",
                "                         \"2093\", \"2094\", \"2095\", \"2096\", \"2097\", \"2098\",\n",
                "                         \"2099\", \"2100\"],\n",
                "                'month': [\"01\", \"02\", \"03\", \"04\", \"05\", \"06\",\n",
                "                          \"07\", \"08\", \"09\", \"10\", \"11\", \"12\"]\n",
                "            },\n",
                "            f'{DATADIR}cmip6_monthly_2015-2100_{i}_{j}.zip')"
            ]
        },
        {
            "cell_type": "markdown",
            "metadata": {},
            "source": [
                "## Unzip the downloaded data files"
            ]
        },
        {
            "cell_type": "markdown",
            "metadata": {},
            "source": [
                "From the CDS, CMIP6 data are available as `NetCDF` files compressed into `zip` archives. For this reason, before we can load any data, we have to extract the files. Having downloaded the four experiments `historical`, `SSP1-2.6`, `SSP2-4.5` and `SSP5-8.5` as seperate zip files, we can use the functions from the `zipfile` Python package to extract their contents. For each zip file we first construct a `ZipFile()` object, then we apply the function `extractall()` to extract its content."
            ]
        },
        {
            "cell_type": "code",
            "execution_count": 11,
            "metadata": {},
            "outputs": [],
            "source": [
                "cmip6_zip_paths = glob(f'{DATADIR}*.zip')\n",
                "for j in cmip6_zip_paths:\n",
                "    with zipfile.ZipFile(j, 'r') as zip_ref:\n",
                "        zip_ref.extractall(f'{DATADIR}')"
            ]
        },
        {
            "cell_type": "markdown",
            "metadata": {},
            "source": [
                "### Create a list of the extracted files\n",
                "\n",
                "To facilitate batch processing later in the tutorial, here we create a list of the extracted NetCDF files:"
            ]
        },
        {
            "cell_type": "code",
            "execution_count": 12,
            "metadata": {},
            "outputs": [],
            "source": [
                "cmip6_nc = list()\n",
                "cmip6_nc_rel = glob(f'{DATADIR}tas*.nc')\n",
                "for i in cmip6_nc_rel:\n",
                "    cmip6_nc.append(os.path.basename(i))"
            ]
        },
        {
            "cell_type": "markdown",
            "metadata": {},
            "source": [
                "We will briefly inspect this list by printing the first five elements, corresponding to the filenames of a sample of the extracted NetCDF files:"
            ]
        },
        {
            "cell_type": "code",
            "execution_count": 13,
            "metadata": {},
            "outputs": [
                {
                    "data": {
                        "text/plain": [
                            "['tas_Amon_MIROC-ES2L_ssp245_r1i1p1f2_gn_20150116-21001216.nc',\n",
                            " 'tas_Amon_IPSL-CM6A-LR_ssp585_r1i1p1f1_gr_20150116-21001216.nc',\n",
                            " 'tas_Amon_INM-CM4-8_ssp585_r1i1p1f1_gr1_20150116-21001216.nc',\n",
                            " 'tas_Amon_MPI-ESM1-2-LR_ssp585_r1i1p1f1_gn_20150116-21001216.nc',\n",
                            " 'tas_Amon_MPI-ESM1-2-LR_historical_r1i1p1f1_gn_18500116-20141216.nc']"
                        ]
                    },
                    "execution_count": 13,
                    "metadata": {},
                    "output_type": "execute_result"
                }
            ],
            "source": [
                "cmip6_nc[0:5]"
            ]
        },
        {
            "cell_type": "markdown",
            "metadata": {},
            "source": [
                "## Load and prepare CMIP6 data for one model and one experiment"
            ]
        },
        {
            "cell_type": "markdown",
            "metadata": {},
            "source": [
                "Now that we have downloaded and extracted the data, we can prepare it in order to view a time series of the spread of annual global temperature for the model ensemble. These preparation steps include the following:\n",
                "\n",
                "1. **Spatial aggregation**: to have a single global temperature value for each model/experiment dataset, and for each time step\n",
                "2. **Temporal aggregation**: from monthly to yearly\n",
                "3. **Conversion of temperature units** from degrees Kelvin to Celsius\n",
                "4. **Addition of data dimensions** in preparation for the merging of datasets from different models and experiments\n",
                "\n",
                "In this section we apply these steps to a single dataset from one model and one experiment. In the next section we merge data from all models/experiments in preparation for the final processing and plotting of the temperature time series."
            ]
        },
        {
            "cell_type": "markdown",
            "metadata": {},
            "source": [
                "### Load and inspect data"
            ]
        },
        {
            "cell_type": "markdown",
            "metadata": {},
            "source": [
                "We begin by loading the first of the NetCDF files in our list. We will use the Python library [xarray](http://xarray.pydata.org/en/stable/) and its function `open_dataset` to read NetCDF files.\n",
                "\n",
                "The result is a `xarray.Dataset` object with four dimensions: `bnds`, `lat`, `lon`, `time`, of which the dimension `bnds` is not callable."
            ]
        },
        {
            "cell_type": "code",
            "execution_count": 14,
            "metadata": {},
            "outputs": [
                {
                    "data": {
                        "text/html": [
                            "<div><svg style=\"position: absolute; width: 0; height: 0; overflow: hidden\">\n",
                            "<defs>\n",
                            "<symbol id=\"icon-database\" viewBox=\"0 0 32 32\">\n",
                            "<path d=\"M16 0c-8.837 0-16 2.239-16 5v4c0 2.761 7.163 5 16 5s16-2.239 16-5v-4c0-2.761-7.163-5-16-5z\"></path>\n",
                            "<path d=\"M16 17c-8.837 0-16-2.239-16-5v6c0 2.761 7.163 5 16 5s16-2.239 16-5v-6c0 2.761-7.163 5-16 5z\"></path>\n",
                            "<path d=\"M16 26c-8.837 0-16-2.239-16-5v6c0 2.761 7.163 5 16 5s16-2.239 16-5v-6c0 2.761-7.163 5-16 5z\"></path>\n",
                            "</symbol>\n",
                            "<symbol id=\"icon-file-text2\" viewBox=\"0 0 32 32\">\n",
                            "<path d=\"M28.681 7.159c-0.694-0.947-1.662-2.053-2.724-3.116s-2.169-2.030-3.116-2.724c-1.612-1.182-2.393-1.319-2.841-1.319h-15.5c-1.378 0-2.5 1.121-2.5 2.5v27c0 1.378 1.122 2.5 2.5 2.5h23c1.378 0 2.5-1.122 2.5-2.5v-19.5c0-0.448-0.137-1.23-1.319-2.841zM24.543 5.457c0.959 0.959 1.712 1.825 2.268 2.543h-4.811v-4.811c0.718 0.556 1.584 1.309 2.543 2.268zM28 29.5c0 0.271-0.229 0.5-0.5 0.5h-23c-0.271 0-0.5-0.229-0.5-0.5v-27c0-0.271 0.229-0.5 0.5-0.5 0 0 15.499-0 15.5 0v7c0 0.552 0.448 1 1 1h7v19.5z\"></path>\n",
                            "<path d=\"M23 26h-14c-0.552 0-1-0.448-1-1s0.448-1 1-1h14c0.552 0 1 0.448 1 1s-0.448 1-1 1z\"></path>\n",
                            "<path d=\"M23 22h-14c-0.552 0-1-0.448-1-1s0.448-1 1-1h14c0.552 0 1 0.448 1 1s-0.448 1-1 1z\"></path>\n",
                            "<path d=\"M23 18h-14c-0.552 0-1-0.448-1-1s0.448-1 1-1h14c0.552 0 1 0.448 1 1s-0.448 1-1 1z\"></path>\n",
                            "</symbol>\n",
                            "</defs>\n",
                            "</svg>\n",
                            "<style>/* CSS stylesheet for displaying xarray objects in jupyterlab.\n",
                            " *\n",
                            " */\n",
                            "\n",
                            ":root {\n",
                            "  --xr-font-color0: var(--jp-content-font-color0, rgba(0, 0, 0, 1));\n",
                            "  --xr-font-color2: var(--jp-content-font-color2, rgba(0, 0, 0, 0.54));\n",
                            "  --xr-font-color3: var(--jp-content-font-color3, rgba(0, 0, 0, 0.38));\n",
                            "  --xr-border-color: var(--jp-border-color2, #e0e0e0);\n",
                            "  --xr-disabled-color: var(--jp-layout-color3, #bdbdbd);\n",
                            "  --xr-background-color: var(--jp-layout-color0, white);\n",
                            "  --xr-background-color-row-even: var(--jp-layout-color1, white);\n",
                            "  --xr-background-color-row-odd: var(--jp-layout-color2, #eeeeee);\n",
                            "}\n",
                            "\n",
                            "html[theme=\"dark\"],\n",
                            "html[data-theme=\"dark\"],\n",
                            "body[data-theme=\"dark\"],\n",
                            "body.vscode-dark {\n",
                            "  --xr-font-color0: rgba(255, 255, 255, 1);\n",
                            "  --xr-font-color2: rgba(255, 255, 255, 0.54);\n",
                            "  --xr-font-color3: rgba(255, 255, 255, 0.38);\n",
                            "  --xr-border-color: #1f1f1f;\n",
                            "  --xr-disabled-color: #515151;\n",
                            "  --xr-background-color: #111111;\n",
                            "  --xr-background-color-row-even: #111111;\n",
                            "  --xr-background-color-row-odd: #313131;\n",
                            "}\n",
                            "\n",
                            ".xr-wrap {\n",
                            "  display: block !important;\n",
                            "  min-width: 300px;\n",
                            "  max-width: 700px;\n",
                            "}\n",
                            "\n",
                            ".xr-text-repr-fallback {\n",
                            "  /* fallback to plain text repr when CSS is not injected (untrusted notebook) */\n",
                            "  display: none;\n",
                            "}\n",
                            "\n",
                            ".xr-header {\n",
                            "  padding-top: 6px;\n",
                            "  padding-bottom: 6px;\n",
                            "  margin-bottom: 4px;\n",
                            "  border-bottom: solid 1px var(--xr-border-color);\n",
                            "}\n",
                            "\n",
                            ".xr-header > div,\n",
                            ".xr-header > ul {\n",
                            "  display: inline;\n",
                            "  margin-top: 0;\n",
                            "  margin-bottom: 0;\n",
                            "}\n",
                            "\n",
                            ".xr-obj-type,\n",
                            ".xr-array-name {\n",
                            "  margin-left: 2px;\n",
                            "  margin-right: 10px;\n",
                            "}\n",
                            "\n",
                            ".xr-obj-type {\n",
                            "  color: var(--xr-font-color2);\n",
                            "}\n",
                            "\n",
                            ".xr-sections {\n",
                            "  padding-left: 0 !important;\n",
                            "  display: grid;\n",
                            "  grid-template-columns: 150px auto auto 1fr 0 20px 0 20px;\n",
                            "}\n",
                            "\n",
                            ".xr-section-item {\n",
                            "  display: contents;\n",
                            "}\n",
                            "\n",
                            ".xr-section-item input {\n",
                            "  display: inline-block;\n",
                            "  opacity: 0;\n",
                            "  height: 0;\n",
                            "}\n",
                            "\n",
                            ".xr-section-item input + label {\n",
                            "  color: var(--xr-disabled-color);\n",
                            "}\n",
                            "\n",
                            ".xr-section-item input:enabled + label {\n",
                            "  cursor: pointer;\n",
                            "  color: var(--xr-font-color2);\n",
                            "}\n",
                            "\n",
                            ".xr-section-item input:focus + label {\n",
                            "  border: 2px solid var(--xr-font-color0);\n",
                            "}\n",
                            "\n",
                            ".xr-section-item input:enabled + label:hover {\n",
                            "  color: var(--xr-font-color0);\n",
                            "}\n",
                            "\n",
                            ".xr-section-summary {\n",
                            "  grid-column: 1;\n",
                            "  color: var(--xr-font-color2);\n",
                            "  font-weight: 500;\n",
                            "}\n",
                            "\n",
                            ".xr-section-summary > span {\n",
                            "  display: inline-block;\n",
                            "  padding-left: 0.5em;\n",
                            "}\n",
                            "\n",
                            ".xr-section-summary-in:disabled + label {\n",
                            "  color: var(--xr-font-color2);\n",
                            "}\n",
                            "\n",
                            ".xr-section-summary-in + label:before {\n",
                            "  display: inline-block;\n",
                            "  content: \"►\";\n",
                            "  font-size: 11px;\n",
                            "  width: 15px;\n",
                            "  text-align: center;\n",
                            "}\n",
                            "\n",
                            ".xr-section-summary-in:disabled + label:before {\n",
                            "  color: var(--xr-disabled-color);\n",
                            "}\n",
                            "\n",
                            ".xr-section-summary-in:checked + label:before {\n",
                            "  content: \"▼\";\n",
                            "}\n",
                            "\n",
                            ".xr-section-summary-in:checked + label > span {\n",
                            "  display: none;\n",
                            "}\n",
                            "\n",
                            ".xr-section-summary,\n",
                            ".xr-section-inline-details {\n",
                            "  padding-top: 4px;\n",
                            "  padding-bottom: 4px;\n",
                            "}\n",
                            "\n",
                            ".xr-section-inline-details {\n",
                            "  grid-column: 2 / -1;\n",
                            "}\n",
                            "\n",
                            ".xr-section-details {\n",
                            "  display: none;\n",
                            "  grid-column: 1 / -1;\n",
                            "  margin-bottom: 5px;\n",
                            "}\n",
                            "\n",
                            ".xr-section-summary-in:checked ~ .xr-section-details {\n",
                            "  display: contents;\n",
                            "}\n",
                            "\n",
                            ".xr-array-wrap {\n",
                            "  grid-column: 1 / -1;\n",
                            "  display: grid;\n",
                            "  grid-template-columns: 20px auto;\n",
                            "}\n",
                            "\n",
                            ".xr-array-wrap > label {\n",
                            "  grid-column: 1;\n",
                            "  vertical-align: top;\n",
                            "}\n",
                            "\n",
                            ".xr-preview {\n",
                            "  color: var(--xr-font-color3);\n",
                            "}\n",
                            "\n",
                            ".xr-array-preview,\n",
                            ".xr-array-data {\n",
                            "  padding: 0 5px !important;\n",
                            "  grid-column: 2;\n",
                            "}\n",
                            "\n",
                            ".xr-array-data,\n",
                            ".xr-array-in:checked ~ .xr-array-preview {\n",
                            "  display: none;\n",
                            "}\n",
                            "\n",
                            ".xr-array-in:checked ~ .xr-array-data,\n",
                            ".xr-array-preview {\n",
                            "  display: inline-block;\n",
                            "}\n",
                            "\n",
                            ".xr-dim-list {\n",
                            "  display: inline-block !important;\n",
                            "  list-style: none;\n",
                            "  padding: 0 !important;\n",
                            "  margin: 0;\n",
                            "}\n",
                            "\n",
                            ".xr-dim-list li {\n",
                            "  display: inline-block;\n",
                            "  padding: 0;\n",
                            "  margin: 0;\n",
                            "}\n",
                            "\n",
                            ".xr-dim-list:before {\n",
                            "  content: \"(\";\n",
                            "}\n",
                            "\n",
                            ".xr-dim-list:after {\n",
                            "  content: \")\";\n",
                            "}\n",
                            "\n",
                            ".xr-dim-list li:not(:last-child):after {\n",
                            "  content: \",\";\n",
                            "  padding-right: 5px;\n",
                            "}\n",
                            "\n",
                            ".xr-has-index {\n",
                            "  font-weight: bold;\n",
                            "}\n",
                            "\n",
                            ".xr-var-list,\n",
                            ".xr-var-item {\n",
                            "  display: contents;\n",
                            "}\n",
                            "\n",
                            ".xr-var-item > div,\n",
                            ".xr-var-item label,\n",
                            ".xr-var-item > .xr-var-name span {\n",
                            "  background-color: var(--xr-background-color-row-even);\n",
                            "  margin-bottom: 0;\n",
                            "}\n",
                            "\n",
                            ".xr-var-item > .xr-var-name:hover span {\n",
                            "  padding-right: 5px;\n",
                            "}\n",
                            "\n",
                            ".xr-var-list > li:nth-child(odd) > div,\n",
                            ".xr-var-list > li:nth-child(odd) > label,\n",
                            ".xr-var-list > li:nth-child(odd) > .xr-var-name span {\n",
                            "  background-color: var(--xr-background-color-row-odd);\n",
                            "}\n",
                            "\n",
                            ".xr-var-name {\n",
                            "  grid-column: 1;\n",
                            "}\n",
                            "\n",
                            ".xr-var-dims {\n",
                            "  grid-column: 2;\n",
                            "}\n",
                            "\n",
                            ".xr-var-dtype {\n",
                            "  grid-column: 3;\n",
                            "  text-align: right;\n",
                            "  color: var(--xr-font-color2);\n",
                            "}\n",
                            "\n",
                            ".xr-var-preview {\n",
                            "  grid-column: 4;\n",
                            "}\n",
                            "\n",
                            ".xr-index-preview {\n",
                            "  grid-column: 2 / 5;\n",
                            "  color: var(--xr-font-color2);\n",
                            "}\n",
                            "\n",
                            ".xr-var-name,\n",
                            ".xr-var-dims,\n",
                            ".xr-var-dtype,\n",
                            ".xr-preview,\n",
                            ".xr-attrs dt {\n",
                            "  white-space: nowrap;\n",
                            "  overflow: hidden;\n",
                            "  text-overflow: ellipsis;\n",
                            "  padding-right: 10px;\n",
                            "}\n",
                            "\n",
                            ".xr-var-name:hover,\n",
                            ".xr-var-dims:hover,\n",
                            ".xr-var-dtype:hover,\n",
                            ".xr-attrs dt:hover {\n",
                            "  overflow: visible;\n",
                            "  width: auto;\n",
                            "  z-index: 1;\n",
                            "}\n",
                            "\n",
                            ".xr-var-attrs,\n",
                            ".xr-var-data,\n",
                            ".xr-index-data {\n",
                            "  display: none;\n",
                            "  background-color: var(--xr-background-color) !important;\n",
                            "  padding-bottom: 5px !important;\n",
                            "}\n",
                            "\n",
                            ".xr-var-attrs-in:checked ~ .xr-var-attrs,\n",
                            ".xr-var-data-in:checked ~ .xr-var-data,\n",
                            ".xr-index-data-in:checked ~ .xr-index-data {\n",
                            "  display: block;\n",
                            "}\n",
                            "\n",
                            ".xr-var-data > table {\n",
                            "  float: right;\n",
                            "}\n",
                            "\n",
                            ".xr-var-name span,\n",
                            ".xr-var-data,\n",
                            ".xr-index-name div,\n",
                            ".xr-index-data,\n",
                            ".xr-attrs {\n",
                            "  padding-left: 25px !important;\n",
                            "}\n",
                            "\n",
                            ".xr-attrs,\n",
                            ".xr-var-attrs,\n",
                            ".xr-var-data,\n",
                            ".xr-index-data {\n",
                            "  grid-column: 1 / -1;\n",
                            "}\n",
                            "\n",
                            "dl.xr-attrs {\n",
                            "  padding: 0;\n",
                            "  margin: 0;\n",
                            "  display: grid;\n",
                            "  grid-template-columns: 125px auto;\n",
                            "}\n",
                            "\n",
                            ".xr-attrs dt,\n",
                            ".xr-attrs dd {\n",
                            "  padding: 0;\n",
                            "  margin: 0;\n",
                            "  float: left;\n",
                            "  padding-right: 10px;\n",
                            "  width: auto;\n",
                            "}\n",
                            "\n",
                            ".xr-attrs dt {\n",
                            "  font-weight: normal;\n",
                            "  grid-column: 1;\n",
                            "}\n",
                            "\n",
                            ".xr-attrs dt:hover span {\n",
                            "  display: inline-block;\n",
                            "  background: var(--xr-background-color);\n",
                            "  padding-right: 10px;\n",
                            "}\n",
                            "\n",
                            ".xr-attrs dd {\n",
                            "  grid-column: 2;\n",
                            "  white-space: pre-wrap;\n",
                            "  word-break: break-all;\n",
                            "}\n",
                            "\n",
                            ".xr-icon-database,\n",
                            ".xr-icon-file-text2,\n",
                            ".xr-no-icon {\n",
                            "  display: inline-block;\n",
                            "  vertical-align: middle;\n",
                            "  width: 1em;\n",
                            "  height: 1.5em !important;\n",
                            "  stroke-width: 0;\n",
                            "  stroke: currentColor;\n",
                            "  fill: currentColor;\n",
                            "}\n",
                            "</style><pre class='xr-text-repr-fallback'>&lt;xarray.Dataset&gt; Size: 34MB\n",
                            "Dimensions:    (time: 1032, bnds: 2, lat: 64, lon: 128)\n",
                            "Coordinates:\n",
                            "  * time       (time) datetime64[ns] 8kB 2015-01-16T12:00:00 ... 2100-12-16T1...\n",
                            "  * lat        (lat) float64 512B -87.86 -85.1 -82.31 ... 82.31 85.1 87.86\n",
                            "  * lon        (lon) float64 1kB 0.0 2.812 5.625 8.438 ... 351.6 354.4 357.2\n",
                            "    height     float64 8B ...\n",
                            "Dimensions without coordinates: bnds\n",
                            "Data variables:\n",
                            "    time_bnds  (time, bnds) datetime64[ns] 17kB ...\n",
                            "    lat_bnds   (lat, bnds) float64 1kB ...\n",
                            "    lon_bnds   (lon, bnds) float64 2kB ...\n",
                            "    tas        (time, lat, lon) float32 34MB ...\n",
                            "Attributes: (12/44)\n",
                            "    Conventions:            CF-1.7 CMIP-6.2\n",
                            "    activity_id:            ScenarioMIP\n",
                            "    branch_method:          standard\n",
                            "    branch_time_in_child:   60265.0\n",
                            "    branch_time_in_parent:  60265.0\n",
                            "    creation_date:          2019-07-13T17:51:22Z\n",
                            "    ...                     ...\n",
                            "    title:                  MIROC-ES2L output prepared for CMIP6\n",
                            "    variable_id:            tas\n",
                            "    variant_label:          r1i1p1f2\n",
                            "    license:                CMIP6 model data produced by MIROC is licensed un...\n",
                            "    cmor_version:           3.3.2\n",
                            "    tracking_id:            hdl:21.14100/64908c82-4662-4463-ad38-5973765855a4</pre><div class='xr-wrap' style='display:none'><div class='xr-header'><div class='xr-obj-type'>xarray.Dataset</div></div><ul class='xr-sections'><li class='xr-section-item'><input id='section-923bb1f3-8e35-431a-8e17-bb07e75262e5' class='xr-section-summary-in' type='checkbox' disabled ><label for='section-923bb1f3-8e35-431a-8e17-bb07e75262e5' class='xr-section-summary'  title='Expand/collapse section'>Dimensions:</label><div class='xr-section-inline-details'><ul class='xr-dim-list'><li><span class='xr-has-index'>time</span>: 1032</li><li><span>bnds</span>: 2</li><li><span class='xr-has-index'>lat</span>: 64</li><li><span class='xr-has-index'>lon</span>: 128</li></ul></div><div class='xr-section-details'></div></li><li class='xr-section-item'><input id='section-12b3b455-de87-44cd-973c-a22438b23e79' class='xr-section-summary-in' type='checkbox'  checked><label for='section-12b3b455-de87-44cd-973c-a22438b23e79' class='xr-section-summary' >Coordinates: <span>(4)</span></label><div class='xr-section-inline-details'></div><div class='xr-section-details'><ul class='xr-var-list'><li class='xr-var-item'><div class='xr-var-name'><span class='xr-has-index'>time</span></div><div class='xr-var-dims'>(time)</div><div class='xr-var-dtype'>datetime64[ns]</div><div class='xr-var-preview xr-preview'>2015-01-16T12:00:00 ... 2100-12-...</div><input id='attrs-ccdaf547-5629-4242-968e-3838fef263a3' class='xr-var-attrs-in' type='checkbox' ><label for='attrs-ccdaf547-5629-4242-968e-3838fef263a3' title='Show/Hide attributes'><svg class='icon xr-icon-file-text2'><use xlink:href='#icon-file-text2'></use></svg></label><input id='data-5936f5a5-63be-4a3e-a9d3-95e572e2f316' class='xr-var-data-in' type='checkbox'><label for='data-5936f5a5-63be-4a3e-a9d3-95e572e2f316' title='Show/Hide data repr'><svg class='icon xr-icon-database'><use xlink:href='#icon-database'></use></svg></label><div class='xr-var-attrs'><dl class='xr-attrs'><dt><span>bounds :</span></dt><dd>time_bnds</dd><dt><span>axis :</span></dt><dd>T</dd><dt><span>long_name :</span></dt><dd>time</dd><dt><span>standard_name :</span></dt><dd>time</dd></dl></div><div class='xr-var-data'><pre>array([&#x27;2015-01-16T12:00:00.000000000&#x27;, &#x27;2015-02-15T00:00:00.000000000&#x27;,\n",
                            "       &#x27;2015-03-16T12:00:00.000000000&#x27;, ..., &#x27;2100-10-16T12:00:00.000000000&#x27;,\n",
                            "       &#x27;2100-11-16T00:00:00.000000000&#x27;, &#x27;2100-12-16T12:00:00.000000000&#x27;],\n",
                            "      shape=(1032,), dtype=&#x27;datetime64[ns]&#x27;)</pre></div></li><li class='xr-var-item'><div class='xr-var-name'><span class='xr-has-index'>lat</span></div><div class='xr-var-dims'>(lat)</div><div class='xr-var-dtype'>float64</div><div class='xr-var-preview xr-preview'>-87.86 -85.1 -82.31 ... 85.1 87.86</div><input id='attrs-70cd7690-75a6-4002-90a5-4843899f0bef' class='xr-var-attrs-in' type='checkbox' ><label for='attrs-70cd7690-75a6-4002-90a5-4843899f0bef' title='Show/Hide attributes'><svg class='icon xr-icon-file-text2'><use xlink:href='#icon-file-text2'></use></svg></label><input id='data-c76e31c7-81e9-45bc-aeb0-47b37dbe0f89' class='xr-var-data-in' type='checkbox'><label for='data-c76e31c7-81e9-45bc-aeb0-47b37dbe0f89' title='Show/Hide data repr'><svg class='icon xr-icon-database'><use xlink:href='#icon-database'></use></svg></label><div class='xr-var-attrs'><dl class='xr-attrs'><dt><span>bounds :</span></dt><dd>lat_bnds</dd><dt><span>units :</span></dt><dd>degrees_north</dd><dt><span>axis :</span></dt><dd>Y</dd><dt><span>long_name :</span></dt><dd>Latitude</dd><dt><span>standard_name :</span></dt><dd>latitude</dd></dl></div><div class='xr-var-data'><pre>array([-87.863799, -85.096527, -82.312913, -79.525607, -76.7369  , -73.947515,\n",
                            "       -71.157752, -68.367756, -65.577607, -62.787352, -59.99702 , -57.206632,\n",
                            "       -54.4162  , -51.625734, -48.835241, -46.044727, -43.254195, -40.463648,\n",
                            "       -37.67309 , -34.882521, -32.091944, -29.30136 , -26.510769, -23.720174,\n",
                            "       -20.929574, -18.138971, -15.348365, -12.557756,  -9.767146,  -6.976534,\n",
                            "        -4.185921,  -1.395307,   1.395307,   4.185921,   6.976534,   9.767146,\n",
                            "        12.557756,  15.348365,  18.138971,  20.929574,  23.720174,  26.510769,\n",
                            "        29.30136 ,  32.091944,  34.882521,  37.67309 ,  40.463648,  43.254195,\n",
                            "        46.044727,  48.835241,  51.625734,  54.4162  ,  57.206632,  59.99702 ,\n",
                            "        62.787352,  65.577607,  68.367756,  71.157752,  73.947515,  76.7369  ,\n",
                            "        79.525607,  82.312913,  85.096527,  87.863799])</pre></div></li><li class='xr-var-item'><div class='xr-var-name'><span class='xr-has-index'>lon</span></div><div class='xr-var-dims'>(lon)</div><div class='xr-var-dtype'>float64</div><div class='xr-var-preview xr-preview'>0.0 2.812 5.625 ... 354.4 357.2</div><input id='attrs-e23a5085-1615-4d41-9585-c5f50a02fa43' class='xr-var-attrs-in' type='checkbox' ><label for='attrs-e23a5085-1615-4d41-9585-c5f50a02fa43' title='Show/Hide attributes'><svg class='icon xr-icon-file-text2'><use xlink:href='#icon-file-text2'></use></svg></label><input id='data-f1dd7717-5e54-4fbb-958c-0bede0f2ada9' class='xr-var-data-in' type='checkbox'><label for='data-f1dd7717-5e54-4fbb-958c-0bede0f2ada9' title='Show/Hide data repr'><svg class='icon xr-icon-database'><use xlink:href='#icon-database'></use></svg></label><div class='xr-var-attrs'><dl class='xr-attrs'><dt><span>bounds :</span></dt><dd>lon_bnds</dd><dt><span>units :</span></dt><dd>degrees_east</dd><dt><span>axis :</span></dt><dd>X</dd><dt><span>long_name :</span></dt><dd>Longitude</dd><dt><span>standard_name :</span></dt><dd>longitude</dd></dl></div><div class='xr-var-data'><pre>array([  0.    ,   2.8125,   5.625 ,   8.4375,  11.25  ,  14.0625,  16.875 ,\n",
                            "        19.6875,  22.5   ,  25.3125,  28.125 ,  30.9375,  33.75  ,  36.5625,\n",
                            "        39.375 ,  42.1875,  45.    ,  47.8125,  50.625 ,  53.4375,  56.25  ,\n",
                            "        59.0625,  61.875 ,  64.6875,  67.5   ,  70.3125,  73.125 ,  75.9375,\n",
                            "        78.75  ,  81.5625,  84.375 ,  87.1875,  90.    ,  92.8125,  95.625 ,\n",
                            "        98.4375, 101.25  , 104.0625, 106.875 , 109.6875, 112.5   , 115.3125,\n",
                            "       118.125 , 120.9375, 123.75  , 126.5625, 129.375 , 132.1875, 135.    ,\n",
                            "       137.8125, 140.625 , 143.4375, 146.25  , 149.0625, 151.875 , 154.6875,\n",
                            "       157.5   , 160.3125, 163.125 , 165.9375, 168.75  , 171.5625, 174.375 ,\n",
                            "       177.1875, 180.    , 182.8125, 185.625 , 188.4375, 191.25  , 194.0625,\n",
                            "       196.875 , 199.6875, 202.5   , 205.3125, 208.125 , 210.9375, 213.75  ,\n",
                            "       216.5625, 219.375 , 222.1875, 225.    , 227.8125, 230.625 , 233.4375,\n",
                            "       236.25  , 239.0625, 241.875 , 244.6875, 247.5   , 250.3125, 253.125 ,\n",
                            "       255.9375, 258.75  , 261.5625, 264.375 , 267.1875, 270.    , 272.8125,\n",
                            "       275.625 , 278.4375, 281.25  , 284.0625, 286.875 , 289.6875, 292.5   ,\n",
                            "       295.3125, 298.125 , 300.9375, 303.75  , 306.5625, 309.375 , 312.1875,\n",
                            "       315.    , 317.8125, 320.625 , 323.4375, 326.25  , 329.0625, 331.875 ,\n",
                            "       334.6875, 337.5   , 340.3125, 343.125 , 345.9375, 348.75  , 351.5625,\n",
                            "       354.375 , 357.1875])</pre></div></li><li class='xr-var-item'><div class='xr-var-name'><span>height</span></div><div class='xr-var-dims'>()</div><div class='xr-var-dtype'>float64</div><div class='xr-var-preview xr-preview'>...</div><input id='attrs-ee708631-b586-4128-9289-3d4d4302a615' class='xr-var-attrs-in' type='checkbox' ><label for='attrs-ee708631-b586-4128-9289-3d4d4302a615' title='Show/Hide attributes'><svg class='icon xr-icon-file-text2'><use xlink:href='#icon-file-text2'></use></svg></label><input id='data-abbc9848-f4eb-4781-9fa1-227a057e78da' class='xr-var-data-in' type='checkbox'><label for='data-abbc9848-f4eb-4781-9fa1-227a057e78da' title='Show/Hide data repr'><svg class='icon xr-icon-database'><use xlink:href='#icon-database'></use></svg></label><div class='xr-var-attrs'><dl class='xr-attrs'><dt><span>units :</span></dt><dd>m</dd><dt><span>axis :</span></dt><dd>Z</dd><dt><span>positive :</span></dt><dd>up</dd><dt><span>long_name :</span></dt><dd>height</dd><dt><span>standard_name :</span></dt><dd>height</dd></dl></div><div class='xr-var-data'><pre>[1 values with dtype=float64]</pre></div></li></ul></div></li><li class='xr-section-item'><input id='section-7c057447-3c42-4d1c-96ff-226d7c905f7f' class='xr-section-summary-in' type='checkbox'  checked><label for='section-7c057447-3c42-4d1c-96ff-226d7c905f7f' class='xr-section-summary' >Data variables: <span>(4)</span></label><div class='xr-section-inline-details'></div><div class='xr-section-details'><ul class='xr-var-list'><li class='xr-var-item'><div class='xr-var-name'><span>time_bnds</span></div><div class='xr-var-dims'>(time, bnds)</div><div class='xr-var-dtype'>datetime64[ns]</div><div class='xr-var-preview xr-preview'>...</div><input id='attrs-e507f7e5-2ee5-4fac-ba63-fcce1a312fd0' class='xr-var-attrs-in' type='checkbox' disabled><label for='attrs-e507f7e5-2ee5-4fac-ba63-fcce1a312fd0' title='Show/Hide attributes'><svg class='icon xr-icon-file-text2'><use xlink:href='#icon-file-text2'></use></svg></label><input id='data-c9098a81-5718-4dea-9467-a090004e838b' class='xr-var-data-in' type='checkbox'><label for='data-c9098a81-5718-4dea-9467-a090004e838b' title='Show/Hide data repr'><svg class='icon xr-icon-database'><use xlink:href='#icon-database'></use></svg></label><div class='xr-var-attrs'><dl class='xr-attrs'></dl></div><div class='xr-var-data'><pre>[2064 values with dtype=datetime64[ns]]</pre></div></li><li class='xr-var-item'><div class='xr-var-name'><span>lat_bnds</span></div><div class='xr-var-dims'>(lat, bnds)</div><div class='xr-var-dtype'>float64</div><div class='xr-var-preview xr-preview'>...</div><input id='attrs-a25df4cd-b212-458d-a3a1-1ae71de3866b' class='xr-var-attrs-in' type='checkbox' disabled><label for='attrs-a25df4cd-b212-458d-a3a1-1ae71de3866b' title='Show/Hide attributes'><svg class='icon xr-icon-file-text2'><use xlink:href='#icon-file-text2'></use></svg></label><input id='data-2a196985-847b-4094-a48f-d9a078263b6b' class='xr-var-data-in' type='checkbox'><label for='data-2a196985-847b-4094-a48f-d9a078263b6b' title='Show/Hide data repr'><svg class='icon xr-icon-database'><use xlink:href='#icon-database'></use></svg></label><div class='xr-var-attrs'><dl class='xr-attrs'></dl></div><div class='xr-var-data'><pre>[128 values with dtype=float64]</pre></div></li><li class='xr-var-item'><div class='xr-var-name'><span>lon_bnds</span></div><div class='xr-var-dims'>(lon, bnds)</div><div class='xr-var-dtype'>float64</div><div class='xr-var-preview xr-preview'>...</div><input id='attrs-14d31050-6dc7-4c08-88a9-91a259ac4396' class='xr-var-attrs-in' type='checkbox' disabled><label for='attrs-14d31050-6dc7-4c08-88a9-91a259ac4396' title='Show/Hide attributes'><svg class='icon xr-icon-file-text2'><use xlink:href='#icon-file-text2'></use></svg></label><input id='data-82e923d7-f427-49da-b929-f2fae00ee75c' class='xr-var-data-in' type='checkbox'><label for='data-82e923d7-f427-49da-b929-f2fae00ee75c' title='Show/Hide data repr'><svg class='icon xr-icon-database'><use xlink:href='#icon-database'></use></svg></label><div class='xr-var-attrs'><dl class='xr-attrs'></dl></div><div class='xr-var-data'><pre>[256 values with dtype=float64]</pre></div></li><li class='xr-var-item'><div class='xr-var-name'><span>tas</span></div><div class='xr-var-dims'>(time, lat, lon)</div><div class='xr-var-dtype'>float32</div><div class='xr-var-preview xr-preview'>...</div><input id='attrs-05eb7908-b231-4821-9a8e-e6cfaca29308' class='xr-var-attrs-in' type='checkbox' ><label for='attrs-05eb7908-b231-4821-9a8e-e6cfaca29308' title='Show/Hide attributes'><svg class='icon xr-icon-file-text2'><use xlink:href='#icon-file-text2'></use></svg></label><input id='data-36b3e982-2a55-47d7-bf2e-a60f57d1d77b' class='xr-var-data-in' type='checkbox'><label for='data-36b3e982-2a55-47d7-bf2e-a60f57d1d77b' title='Show/Hide data repr'><svg class='icon xr-icon-database'><use xlink:href='#icon-database'></use></svg></label><div class='xr-var-attrs'><dl class='xr-attrs'><dt><span>standard_name :</span></dt><dd>air_temperature</dd><dt><span>long_name :</span></dt><dd>Near-Surface Air Temperature</dd><dt><span>comment :</span></dt><dd>near-surface (usually, 2 meter) air temperature</dd><dt><span>units :</span></dt><dd>K</dd><dt><span>original_name :</span></dt><dd>T2</dd><dt><span>cell_methods :</span></dt><dd>area: time: mean</dd><dt><span>cell_measures :</span></dt><dd>area: areacella</dd><dt><span>history :</span></dt><dd>2019-07-13T17:51:22Z altered by CMOR: Treated scalar dimension: &#x27;height&#x27;. 2019-07-13T17:51:22Z altered by CMOR: replaced missing value flag (-999) with standard missing value (1e+20). 2019-07-13T17:51:22Z altered by CMOR: Inverted axis: lat.</dd></dl></div><div class='xr-var-data'><pre>[8454144 values with dtype=float32]</pre></div></li></ul></div></li><li class='xr-section-item'><input id='section-45d2af2f-fd54-49e0-b93d-3771953178f3' class='xr-section-summary-in' type='checkbox'  ><label for='section-45d2af2f-fd54-49e0-b93d-3771953178f3' class='xr-section-summary' >Indexes: <span>(3)</span></label><div class='xr-section-inline-details'></div><div class='xr-section-details'><ul class='xr-var-list'><li class='xr-var-item'><div class='xr-index-name'><div>time</div></div><div class='xr-index-preview'>PandasIndex</div><input type='checkbox' disabled/><label></label><input id='index-5afc165c-2d0e-47c9-b25c-2dbc623f642a' class='xr-index-data-in' type='checkbox'/><label for='index-5afc165c-2d0e-47c9-b25c-2dbc623f642a' title='Show/Hide index repr'><svg class='icon xr-icon-database'><use xlink:href='#icon-database'></use></svg></label><div class='xr-index-data'><pre>PandasIndex(DatetimeIndex([&#x27;2015-01-16 12:00:00&#x27;, &#x27;2015-02-15 00:00:00&#x27;,\n",
                            "               &#x27;2015-03-16 12:00:00&#x27;, &#x27;2015-04-16 00:00:00&#x27;,\n",
                            "               &#x27;2015-05-16 12:00:00&#x27;, &#x27;2015-06-16 00:00:00&#x27;,\n",
                            "               &#x27;2015-07-16 12:00:00&#x27;, &#x27;2015-08-16 12:00:00&#x27;,\n",
                            "               &#x27;2015-09-16 00:00:00&#x27;, &#x27;2015-10-16 12:00:00&#x27;,\n",
                            "               ...\n",
                            "               &#x27;2100-03-16 12:00:00&#x27;, &#x27;2100-04-16 00:00:00&#x27;,\n",
                            "               &#x27;2100-05-16 12:00:00&#x27;, &#x27;2100-06-16 00:00:00&#x27;,\n",
                            "               &#x27;2100-07-16 12:00:00&#x27;, &#x27;2100-08-16 12:00:00&#x27;,\n",
                            "               &#x27;2100-09-16 00:00:00&#x27;, &#x27;2100-10-16 12:00:00&#x27;,\n",
                            "               &#x27;2100-11-16 00:00:00&#x27;, &#x27;2100-12-16 12:00:00&#x27;],\n",
                            "              dtype=&#x27;datetime64[ns]&#x27;, name=&#x27;time&#x27;, length=1032, freq=None))</pre></div></li><li class='xr-var-item'><div class='xr-index-name'><div>lat</div></div><div class='xr-index-preview'>PandasIndex</div><input type='checkbox' disabled/><label></label><input id='index-9f6120c8-0542-48d7-a604-c0b705b979c7' class='xr-index-data-in' type='checkbox'/><label for='index-9f6120c8-0542-48d7-a604-c0b705b979c7' title='Show/Hide index repr'><svg class='icon xr-icon-database'><use xlink:href='#icon-database'></use></svg></label><div class='xr-index-data'><pre>PandasIndex(Index([ -87.86379883923263,  -85.09652698831736,  -82.31291294788628,\n",
                            "        -79.52560657265944,  -76.73689968036831,  -73.94751515398967,\n",
                            "        -71.15775201158732,  -68.36775610831317,  -65.57760701082782,\n",
                            "       -62.787351798963066, -59.997020108491306, -57.206631527643246,\n",
                            "        -54.41619952608621,  -51.62573367493825,  -48.83524096625059,\n",
                            "        -46.04472663110168,  -43.25419466535094,  -40.46364817811504,\n",
                            "       -37.673089629045336,  -34.88252099377346,  -32.09194388174401,\n",
                            "       -29.301359621762735, -26.510769325210994,  -23.72017393353475,\n",
                            "       -20.929574254489513, -18.138970990239354, -15.348364759491494,\n",
                            "       -12.557756115230678,  -9.767145559195567,  -6.976533553948636,\n",
                            "       -4.1859205331891545, -1.3953069108194962,  1.3953069108194962,\n",
                            "        4.1859205331891545,   6.976533553948636,   9.767145559195567,\n",
                            "        12.557756115230678,  15.348364759491494,  18.138970990239354,\n",
                            "        20.929574254489513,   23.72017393353475,  26.510769325210994,\n",
                            "        29.301359621762735,   32.09194388174401,   34.88252099377346,\n",
                            "        37.673089629045336,   40.46364817811504,   43.25419466535094,\n",
                            "         46.04472663110168,   48.83524096625059,   51.62573367493825,\n",
                            "         54.41619952608621,  57.206631527643246,  59.997020108491306,\n",
                            "        62.787351798963066,   65.57760701082782,   68.36775610831317,\n",
                            "         71.15775201158732,   73.94751515398967,   76.73689968036831,\n",
                            "         79.52560657265944,   82.31291294788628,   85.09652698831736,\n",
                            "         87.86379883923263],\n",
                            "      dtype=&#x27;float64&#x27;, name=&#x27;lat&#x27;))</pre></div></li><li class='xr-var-item'><div class='xr-index-name'><div>lon</div></div><div class='xr-index-preview'>PandasIndex</div><input type='checkbox' disabled/><label></label><input id='index-ac30f4b8-ce37-4869-90b5-055ac237dd35' class='xr-index-data-in' type='checkbox'/><label for='index-ac30f4b8-ce37-4869-90b5-055ac237dd35' title='Show/Hide index repr'><svg class='icon xr-icon-database'><use xlink:href='#icon-database'></use></svg></label><div class='xr-index-data'><pre>PandasIndex(Index([     0.0,   2.8125,    5.625,   8.4375,    11.25,  14.0625,   16.875,\n",
                            "        19.6875,     22.5,  25.3125,\n",
                            "       ...\n",
                            "        331.875, 334.6875,    337.5, 340.3125,  343.125, 345.9375,   348.75,\n",
                            "       351.5625,  354.375, 357.1875],\n",
                            "      dtype=&#x27;float64&#x27;, name=&#x27;lon&#x27;, length=128))</pre></div></li></ul></div></li><li class='xr-section-item'><input id='section-4a74e63a-f01c-439e-b14a-5ce6933a0807' class='xr-section-summary-in' type='checkbox'  ><label for='section-4a74e63a-f01c-439e-b14a-5ce6933a0807' class='xr-section-summary' >Attributes: <span>(44)</span></label><div class='xr-section-inline-details'></div><div class='xr-section-details'><dl class='xr-attrs'><dt><span>Conventions :</span></dt><dd>CF-1.7 CMIP-6.2</dd><dt><span>activity_id :</span></dt><dd>ScenarioMIP</dd><dt><span>branch_method :</span></dt><dd>standard</dd><dt><span>branch_time_in_child :</span></dt><dd>60265.0</dd><dt><span>branch_time_in_parent :</span></dt><dd>60265.0</dd><dt><span>creation_date :</span></dt><dd>2019-07-13T17:51:22Z</dd><dt><span>data_specs_version :</span></dt><dd>01.00.28</dd><dt><span>experiment :</span></dt><dd>update of RCP4.5 based on SSP2</dd><dt><span>experiment_id :</span></dt><dd>ssp245</dd><dt><span>external_variables :</span></dt><dd>areacella</dd><dt><span>forcing_index :</span></dt><dd>2</dd><dt><span>frequency :</span></dt><dd>mon</dd><dt><span>further_info_url :</span></dt><dd>https://furtherinfo.es-doc.org/CMIP6.MIROC.MIROC-ES2L.ssp245.none.r1i1p1f2</dd><dt><span>grid :</span></dt><dd>native atmosphere T42 Gaussian grid</dd><dt><span>grid_label :</span></dt><dd>gn</dd><dt><span>history :</span></dt><dd>2019-07-13T17:51:22Z ; CMOR rewrote data to be consistent with CMIP6, CF-1.7 CMIP-6.2 and CF standards.</dd><dt><span>initialization_index :</span></dt><dd>1</dd><dt><span>institution :</span></dt><dd>JAMSTEC (Japan Agency for Marine-Earth Science and Technology, Kanagawa 236-0001, Japan), AORI (Atmosphere and Ocean Research Institute, The University of Tokyo, Chiba 277-8564, Japan), NIES (National Institute for Environmental Studies, Ibaraki 305-8506, Japan), and R-CCS (RIKEN Center for Computational Science, Hyogo 650-0047, Japan)</dd><dt><span>institution_id :</span></dt><dd>MIROC</dd><dt><span>mip_era :</span></dt><dd>CMIP6</dd><dt><span>nominal_resolution :</span></dt><dd>500 km</dd><dt><span>parent_activity_id :</span></dt><dd>CMIP</dd><dt><span>parent_experiment_id :</span></dt><dd>historical</dd><dt><span>parent_mip_era :</span></dt><dd>CMIP6</dd><dt><span>parent_source_id :</span></dt><dd>MIROC-ES2L</dd><dt><span>parent_time_units :</span></dt><dd>days since 1850-1-1</dd><dt><span>parent_variant_label :</span></dt><dd>r1i1p1f2</dd><dt><span>physics_index :</span></dt><dd>1</dd><dt><span>product :</span></dt><dd>model-output</dd><dt><span>realization_index :</span></dt><dd>1</dd><dt><span>realm :</span></dt><dd>atmos</dd><dt><span>source :</span></dt><dd>MIROC-ES2L (2018): \n",
                            "aerosol: SPRINTARS6.0\n",
                            "atmos: CCSR AGCM (T42; 128 x 64 longitude/latitude; 40 levels; top level 3 hPa)\n",
                            "atmosChem: none\n",
                            "land: MATSIRO6.0+VISIT-e ver.1.0\n",
                            "landIce: none\n",
                            "ocean: COCO4.9 (tripolar primarily 1deg; 360 x 256 longitude/latitude; 63 levels; top grid cell 0-2 m)\n",
                            "ocnBgchem: OECO ver.2.0; NPZD-type with C/N/P/Fe/O cycles\n",
                            "seaIce: COCO4.9</dd><dt><span>source_id :</span></dt><dd>MIROC-ES2L</dd><dt><span>source_type :</span></dt><dd>AOGCM AER BGC</dd><dt><span>sub_experiment :</span></dt><dd>none</dd><dt><span>sub_experiment_id :</span></dt><dd>none</dd><dt><span>table_id :</span></dt><dd>Amon</dd><dt><span>table_info :</span></dt><dd>Creation Date:(06 November 2018) MD5:0728c79344e0f262bb76e4f9ff0d9afc</dd><dt><span>title :</span></dt><dd>MIROC-ES2L output prepared for CMIP6</dd><dt><span>variable_id :</span></dt><dd>tas</dd><dt><span>variant_label :</span></dt><dd>r1i1p1f2</dd><dt><span>license :</span></dt><dd>CMIP6 model data produced by MIROC is licensed under a Creative Commons Attribution ShareAlike 4.0 International License (https://creativecommons.org/licenses/). Consult https://pcmdi.llnl.gov/CMIP6/TermsOfUse for terms of use governing CMIP6 output, including citation requirements and proper acknowledgment. Further information about this data, including some limitations, can be found via the further_info_url (recorded as a global attribute in this file). The data producers and data providers make no warranty, either express or implied, including, but not limited to, warranties of merchantability and fitness for a particular purpose. All liabilities arising from the supply of the information (including any liability arising in negligence) are excluded to the fullest extent permitted by law.</dd><dt><span>cmor_version :</span></dt><dd>3.3.2</dd><dt><span>tracking_id :</span></dt><dd>hdl:21.14100/64908c82-4662-4463-ad38-5973765855a4</dd></dl></div></li></ul></div></div>"
                        ],
                        "text/plain": [
                            "<xarray.Dataset> Size: 34MB\n",
                            "Dimensions:    (time: 1032, bnds: 2, lat: 64, lon: 128)\n",
                            "Coordinates:\n",
                            "  * time       (time) datetime64[ns] 8kB 2015-01-16T12:00:00 ... 2100-12-16T1...\n",
                            "  * lat        (lat) float64 512B -87.86 -85.1 -82.31 ... 82.31 85.1 87.86\n",
                            "  * lon        (lon) float64 1kB 0.0 2.812 5.625 8.438 ... 351.6 354.4 357.2\n",
                            "    height     float64 8B ...\n",
                            "Dimensions without coordinates: bnds\n",
                            "Data variables:\n",
                            "    time_bnds  (time, bnds) datetime64[ns] 17kB ...\n",
                            "    lat_bnds   (lat, bnds) float64 1kB ...\n",
                            "    lon_bnds   (lon, bnds) float64 2kB ...\n",
                            "    tas        (time, lat, lon) float32 34MB ...\n",
                            "Attributes: (12/44)\n",
                            "    Conventions:            CF-1.7 CMIP-6.2\n",
                            "    activity_id:            ScenarioMIP\n",
                            "    branch_method:          standard\n",
                            "    branch_time_in_child:   60265.0\n",
                            "    branch_time_in_parent:  60265.0\n",
                            "    creation_date:          2019-07-13T17:51:22Z\n",
                            "    ...                     ...\n",
                            "    title:                  MIROC-ES2L output prepared for CMIP6\n",
                            "    variable_id:            tas\n",
                            "    variant_label:          r1i1p1f2\n",
                            "    license:                CMIP6 model data produced by MIROC is licensed un...\n",
                            "    cmor_version:           3.3.2\n",
                            "    tracking_id:            hdl:21.14100/64908c82-4662-4463-ad38-5973765855a4"
                        ]
                    },
                    "execution_count": 14,
                    "metadata": {},
                    "output_type": "execute_result"
                }
            ],
            "source": [
                "ds = xr.open_dataset(f'{DATADIR}{cmip6_nc[0]}')\n",
                "ds"
            ]
        },
        {
            "cell_type": "markdown",
            "metadata": {},
            "source": [
                "By examining the data above, we can see from the temporal range (1850 to 2014) that it is from the `historical` experiment.\n",
                "\n",
                "We see that the data dimensions have been given labelled coordinates of time, latitude and longitude. We can find more about the dataset from the `Attributes`, such information includes the model name, description of the variable (`long_name`), units, etc.\n",
                "\n",
                "Some of this information we will need later, this includes the experiment and model IDs. We will save these into variables:"
            ]
        },
        {
            "cell_type": "code",
            "execution_count": 15,
            "metadata": {},
            "outputs": [],
            "source": [
                "exp = ds.attrs['experiment_id']\n",
                "mod = ds.attrs['source_id']"
            ]
        },
        {
            "cell_type": "markdown",
            "metadata": {},
            "source": [
                "An `xarray.Dataset()` may contain arrays of multiple variables. We only have one variable in the dataset, which is near-surface air temperature, `tas`. Below we create an `xarray.DataArray()` object, which takes only one variable, but gives us more flexibility in processing."
            ]
        },
        {
            "cell_type": "code",
            "execution_count": 16,
            "metadata": {},
            "outputs": [],
            "source": [
                "da = ds['tas']"
            ]
        },
        {
            "cell_type": "markdown",
            "metadata": {},
            "source": [
                "### Spatial aggregation"
            ]
        },
        {
            "cell_type": "markdown",
            "metadata": {},
            "source": [
                "The next step is to aggregate the temperature values spatially (i.e. average over the latitude and longitude dimensions) and compute the global monthly near-surface temperature.\n",
                "\n",
                "A very important consideration however is that the gridded data cells do not all correspond to the same areas. The size covered by each data point varies as a function of latitude. We need to take this into account when averaging. One way to do this is to use the cosine of the latitude as a proxy for the varying sizes. \n",
                "\n",
                "This can be implemented by first calculating weights as a function of the cosine of the latitude, then applying these weights to the data array with the xarray function `weighted()`:"
            ]
        },
        {
            "cell_type": "code",
            "execution_count": 17,
            "metadata": {},
            "outputs": [],
            "source": [
                "weights = np.cos(np.deg2rad(da.lat))\n",
                "weights.name = \"weights\"\n",
                "da_weighted = da.weighted(weights)"
            ]
        },
        {
            "cell_type": "markdown",
            "metadata": {},
            "source": [
                "The next step is then to compute the mean across the latitude and longitude dimensions of the weighted data array with the function `mean()`. The result is a DataArray with one dimension (`time`)."
            ]
        },
        {
            "cell_type": "code",
            "execution_count": 18,
            "metadata": {},
            "outputs": [],
            "source": [
                "da_agg = da_weighted.mean(['lat', 'lon'])"
            ]
        },
        {
            "cell_type": "markdown",
            "metadata": {},
            "source": [
                "### Temporal aggregation"
            ]
        },
        {
            "cell_type": "markdown",
            "metadata": {},
            "source": [
                "We now aggregate the monthly global near-surface air temperature values to annual global near-surface air temperature values. This operation can be done in two steps: first, all the values for one specific year have to be grouped with the function `groupby()` and second, we can create the average of each group with the function `mean()`.\n",
                "\n",
                "The result is a one-dimensional DataArray. Please note that this operation changes the name of the dimension from `time` to `year`."
            ]
        },
        {
            "cell_type": "code",
            "execution_count": 19,
            "metadata": {},
            "outputs": [],
            "source": [
                "da_yr = da_agg.groupby('time.year').mean()"
            ]
        },
        {
            "cell_type": "markdown",
            "metadata": {},
            "source": [
                "### Conversion from Kelvin to Celsius"
            ]
        },
        {
            "cell_type": "markdown",
            "metadata": {},
            "source": [
                "The metadata of the original data (before it was stripped during the subsequent processing steps) tells us that the near-surface air temperature data values are in units of Kelvin. We will convert them to degrees Celsius by subtracting 273.15 from the data values. "
            ]
        },
        {
            "cell_type": "code",
            "execution_count": 20,
            "metadata": {},
            "outputs": [],
            "source": [
                "da_yr = da_yr - 273.15"
            ]
        },
        {
            "cell_type": "markdown",
            "metadata": {},
            "source": [
                "### Create additional data dimensions (to later combine data from multiple models & experiments)"
            ]
        },
        {
            "cell_type": "markdown",
            "metadata": {},
            "source": [
                "Finally, we will create additional dimensions for the model and for the experiment. These we will label with the model and experiment name as taken from the metadata of the original data (see above). These will be useful when we repeat the processes above for all models and experiments, and combine them into one array."
            ]
        },
        {
            "cell_type": "code",
            "execution_count": 21,
            "metadata": {},
            "outputs": [],
            "source": [
                "da_yr = da_yr.assign_coords(model=mod)\n",
                "da_yr = da_yr.expand_dims('model')\n",
                "da_yr = da_yr.assign_coords(experiment=exp)\n",
                "da_yr = da_yr.expand_dims('experiment')"
            ]
        },
        {
            "cell_type": "markdown",
            "metadata": {},
            "source": [
                "## Load and prepare CMIP6 data for all models and experiments"
            ]
        },
        {
            "cell_type": "markdown",
            "metadata": {},
            "source": [
                "To repeat the steps above for all models and all experiments, we will collect all of the commands we have used so far into a function, which we can then apply to a batch of files corresponding to the data from all models and experiments."
            ]
        },
        {
            "cell_type": "code",
            "execution_count": 22,
            "metadata": {},
            "outputs": [],
            "source": [
                "# Function to aggregate in geographical lat lon dimensions\n",
                "\n",
                "def geog_agg(fn):\n",
                "    ds = xr.open_dataset(f'{DATADIR}{fn}')\n",
                "    exp = ds.attrs['experiment_id']\n",
                "    mod = ds.attrs['source_id']\n",
                "    da = ds['tas']\n",
                "    weights = np.cos(np.deg2rad(da.lat))\n",
                "    weights.name = \"weights\"\n",
                "    da_weighted = da.weighted(weights)\n",
                "    da_agg = da_weighted.mean(['lat', 'lon'])\n",
                "    da_yr = da_agg.groupby('time.year').mean()\n",
                "    da_yr = da_yr - 273.15\n",
                "    da_yr = da_yr.assign_coords(model=mod)\n",
                "    da_yr = da_yr.expand_dims('model')\n",
                "    da_yr = da_yr.assign_coords(experiment=exp)\n",
                "    da_yr = da_yr.expand_dims('experiment')\n",
                "    da_yr.to_netcdf(path=f'{DATADIR}cmip6_agg_{exp}_{mod}_{str(da_yr.year[0].values)}.nc')"
            ]
        },
        {
            "cell_type": "markdown",
            "metadata": {},
            "source": [
                "Now we can apply this function to all the extracted NetCDF files. The `try` and `except` clauses ensure that all NetCDF files are attempted, even if some fail to be processed. One reason why some may fail is if the data are labelled differently, e.g. the model *MCM-UA-1-0* has coordinates labelled as \"*latitude*\" and *longitude*\". This differs from the suggested standard, and more commonly applied labels of \"*lat*\" and \"*lon*\". Any that fail will be recorded in a print statement, and these can be processed separately. See [here](https://confluence.ecmwf.int/display/CKB/CMIP6%3A+Global+climate+projections#CMIP6:Globalclimateprojections-QualitycontroloftheCDS-CMIP6subset) more details on the quality control of the CMIP6 datasets on the CDS."
            ]
        },
        {
            "cell_type": "code",
            "execution_count": 23,
            "metadata": {},
            "outputs": [],
            "source": [
                "for i in cmip6_nc:\n",
                "    try:\n",
                "        geog_agg(i)\n",
                "    except: print(f'{i} failed')"
            ]
        },
        {
            "cell_type": "markdown",
            "metadata": {},
            "source": [
                "In the absence of any print statements, we see that all files were successfully processed. \n",
                "\n",
                "We will now combine these processed files into one dataset for the final steps to create a visualisation of near-surface air temperature from the model ensemble."
            ]
        },
        {
            "cell_type": "markdown",
            "metadata": {},
            "source": [
                "If all files have the same coordinates, the function `xarray.open_mfdataset` will merge the data according to the same coordinates."
            ]
        },
        {
            "cell_type": "code",
            "execution_count": 24,
            "metadata": {},
            "outputs": [],
            "source": [
                "data_ds = xr.open_mfdataset(f'{DATADIR}cmip6_agg*.nc')"
            ]
        },
        {
            "cell_type": "markdown",
            "metadata": {},
            "source": [
                "The dataset created by `xarray.open_mfdataset` is by default in the form of \"lazy Dask arrays\". \n",
                "\n",
                "Dask divides arrays into many small pieces, called chunks, each of which is presumed to be small enough to fit into memory. As opposed to eager evaluation, operations on Dask arrays are lazy, i.e. operations queue up a series of tasks mapped over blocks, and no computation is performed until you request values to be computed. For more details, see https://xarray.pydata.org/en/stable/user-guide/dask.html. \n",
                "\n",
                "To facilitate further processing we would need to convert these Dask arrays into in-memory \"eager\" arrays, which we can do by using the `load()` method: "
            ]
        },
        {
            "cell_type": "code",
            "execution_count": 25,
            "metadata": {
                "scrolled": true
            },
            "outputs": [
                {
                    "data": {
                        "text/html": [
                            "<div><svg style=\"position: absolute; width: 0; height: 0; overflow: hidden\">\n",
                            "<defs>\n",
                            "<symbol id=\"icon-database\" viewBox=\"0 0 32 32\">\n",
                            "<path d=\"M16 0c-8.837 0-16 2.239-16 5v4c0 2.761 7.163 5 16 5s16-2.239 16-5v-4c0-2.761-7.163-5-16-5z\"></path>\n",
                            "<path d=\"M16 17c-8.837 0-16-2.239-16-5v6c0 2.761 7.163 5 16 5s16-2.239 16-5v-6c0 2.761-7.163 5-16 5z\"></path>\n",
                            "<path d=\"M16 26c-8.837 0-16-2.239-16-5v6c0 2.761 7.163 5 16 5s16-2.239 16-5v-6c0 2.761-7.163 5-16 5z\"></path>\n",
                            "</symbol>\n",
                            "<symbol id=\"icon-file-text2\" viewBox=\"0 0 32 32\">\n",
                            "<path d=\"M28.681 7.159c-0.694-0.947-1.662-2.053-2.724-3.116s-2.169-2.030-3.116-2.724c-1.612-1.182-2.393-1.319-2.841-1.319h-15.5c-1.378 0-2.5 1.121-2.5 2.5v27c0 1.378 1.122 2.5 2.5 2.5h23c1.378 0 2.5-1.122 2.5-2.5v-19.5c0-0.448-0.137-1.23-1.319-2.841zM24.543 5.457c0.959 0.959 1.712 1.825 2.268 2.543h-4.811v-4.811c0.718 0.556 1.584 1.309 2.543 2.268zM28 29.5c0 0.271-0.229 0.5-0.5 0.5h-23c-0.271 0-0.5-0.229-0.5-0.5v-27c0-0.271 0.229-0.5 0.5-0.5 0 0 15.499-0 15.5 0v7c0 0.552 0.448 1 1 1h7v19.5z\"></path>\n",
                            "<path d=\"M23 26h-14c-0.552 0-1-0.448-1-1s0.448-1 1-1h14c0.552 0 1 0.448 1 1s-0.448 1-1 1z\"></path>\n",
                            "<path d=\"M23 22h-14c-0.552 0-1-0.448-1-1s0.448-1 1-1h14c0.552 0 1 0.448 1 1s-0.448 1-1 1z\"></path>\n",
                            "<path d=\"M23 18h-14c-0.552 0-1-0.448-1-1s0.448-1 1-1h14c0.552 0 1 0.448 1 1s-0.448 1-1 1z\"></path>\n",
                            "</symbol>\n",
                            "</defs>\n",
                            "</svg>\n",
                            "<style>/* CSS stylesheet for displaying xarray objects in jupyterlab.\n",
                            " *\n",
                            " */\n",
                            "\n",
                            ":root {\n",
                            "  --xr-font-color0: var(--jp-content-font-color0, rgba(0, 0, 0, 1));\n",
                            "  --xr-font-color2: var(--jp-content-font-color2, rgba(0, 0, 0, 0.54));\n",
                            "  --xr-font-color3: var(--jp-content-font-color3, rgba(0, 0, 0, 0.38));\n",
                            "  --xr-border-color: var(--jp-border-color2, #e0e0e0);\n",
                            "  --xr-disabled-color: var(--jp-layout-color3, #bdbdbd);\n",
                            "  --xr-background-color: var(--jp-layout-color0, white);\n",
                            "  --xr-background-color-row-even: var(--jp-layout-color1, white);\n",
                            "  --xr-background-color-row-odd: var(--jp-layout-color2, #eeeeee);\n",
                            "}\n",
                            "\n",
                            "html[theme=\"dark\"],\n",
                            "html[data-theme=\"dark\"],\n",
                            "body[data-theme=\"dark\"],\n",
                            "body.vscode-dark {\n",
                            "  --xr-font-color0: rgba(255, 255, 255, 1);\n",
                            "  --xr-font-color2: rgba(255, 255, 255, 0.54);\n",
                            "  --xr-font-color3: rgba(255, 255, 255, 0.38);\n",
                            "  --xr-border-color: #1f1f1f;\n",
                            "  --xr-disabled-color: #515151;\n",
                            "  --xr-background-color: #111111;\n",
                            "  --xr-background-color-row-even: #111111;\n",
                            "  --xr-background-color-row-odd: #313131;\n",
                            "}\n",
                            "\n",
                            ".xr-wrap {\n",
                            "  display: block !important;\n",
                            "  min-width: 300px;\n",
                            "  max-width: 700px;\n",
                            "}\n",
                            "\n",
                            ".xr-text-repr-fallback {\n",
                            "  /* fallback to plain text repr when CSS is not injected (untrusted notebook) */\n",
                            "  display: none;\n",
                            "}\n",
                            "\n",
                            ".xr-header {\n",
                            "  padding-top: 6px;\n",
                            "  padding-bottom: 6px;\n",
                            "  margin-bottom: 4px;\n",
                            "  border-bottom: solid 1px var(--xr-border-color);\n",
                            "}\n",
                            "\n",
                            ".xr-header > div,\n",
                            ".xr-header > ul {\n",
                            "  display: inline;\n",
                            "  margin-top: 0;\n",
                            "  margin-bottom: 0;\n",
                            "}\n",
                            "\n",
                            ".xr-obj-type,\n",
                            ".xr-array-name {\n",
                            "  margin-left: 2px;\n",
                            "  margin-right: 10px;\n",
                            "}\n",
                            "\n",
                            ".xr-obj-type {\n",
                            "  color: var(--xr-font-color2);\n",
                            "}\n",
                            "\n",
                            ".xr-sections {\n",
                            "  padding-left: 0 !important;\n",
                            "  display: grid;\n",
                            "  grid-template-columns: 150px auto auto 1fr 0 20px 0 20px;\n",
                            "}\n",
                            "\n",
                            ".xr-section-item {\n",
                            "  display: contents;\n",
                            "}\n",
                            "\n",
                            ".xr-section-item input {\n",
                            "  display: inline-block;\n",
                            "  opacity: 0;\n",
                            "  height: 0;\n",
                            "}\n",
                            "\n",
                            ".xr-section-item input + label {\n",
                            "  color: var(--xr-disabled-color);\n",
                            "}\n",
                            "\n",
                            ".xr-section-item input:enabled + label {\n",
                            "  cursor: pointer;\n",
                            "  color: var(--xr-font-color2);\n",
                            "}\n",
                            "\n",
                            ".xr-section-item input:focus + label {\n",
                            "  border: 2px solid var(--xr-font-color0);\n",
                            "}\n",
                            "\n",
                            ".xr-section-item input:enabled + label:hover {\n",
                            "  color: var(--xr-font-color0);\n",
                            "}\n",
                            "\n",
                            ".xr-section-summary {\n",
                            "  grid-column: 1;\n",
                            "  color: var(--xr-font-color2);\n",
                            "  font-weight: 500;\n",
                            "}\n",
                            "\n",
                            ".xr-section-summary > span {\n",
                            "  display: inline-block;\n",
                            "  padding-left: 0.5em;\n",
                            "}\n",
                            "\n",
                            ".xr-section-summary-in:disabled + label {\n",
                            "  color: var(--xr-font-color2);\n",
                            "}\n",
                            "\n",
                            ".xr-section-summary-in + label:before {\n",
                            "  display: inline-block;\n",
                            "  content: \"►\";\n",
                            "  font-size: 11px;\n",
                            "  width: 15px;\n",
                            "  text-align: center;\n",
                            "}\n",
                            "\n",
                            ".xr-section-summary-in:disabled + label:before {\n",
                            "  color: var(--xr-disabled-color);\n",
                            "}\n",
                            "\n",
                            ".xr-section-summary-in:checked + label:before {\n",
                            "  content: \"▼\";\n",
                            "}\n",
                            "\n",
                            ".xr-section-summary-in:checked + label > span {\n",
                            "  display: none;\n",
                            "}\n",
                            "\n",
                            ".xr-section-summary,\n",
                            ".xr-section-inline-details {\n",
                            "  padding-top: 4px;\n",
                            "  padding-bottom: 4px;\n",
                            "}\n",
                            "\n",
                            ".xr-section-inline-details {\n",
                            "  grid-column: 2 / -1;\n",
                            "}\n",
                            "\n",
                            ".xr-section-details {\n",
                            "  display: none;\n",
                            "  grid-column: 1 / -1;\n",
                            "  margin-bottom: 5px;\n",
                            "}\n",
                            "\n",
                            ".xr-section-summary-in:checked ~ .xr-section-details {\n",
                            "  display: contents;\n",
                            "}\n",
                            "\n",
                            ".xr-array-wrap {\n",
                            "  grid-column: 1 / -1;\n",
                            "  display: grid;\n",
                            "  grid-template-columns: 20px auto;\n",
                            "}\n",
                            "\n",
                            ".xr-array-wrap > label {\n",
                            "  grid-column: 1;\n",
                            "  vertical-align: top;\n",
                            "}\n",
                            "\n",
                            ".xr-preview {\n",
                            "  color: var(--xr-font-color3);\n",
                            "}\n",
                            "\n",
                            ".xr-array-preview,\n",
                            ".xr-array-data {\n",
                            "  padding: 0 5px !important;\n",
                            "  grid-column: 2;\n",
                            "}\n",
                            "\n",
                            ".xr-array-data,\n",
                            ".xr-array-in:checked ~ .xr-array-preview {\n",
                            "  display: none;\n",
                            "}\n",
                            "\n",
                            ".xr-array-in:checked ~ .xr-array-data,\n",
                            ".xr-array-preview {\n",
                            "  display: inline-block;\n",
                            "}\n",
                            "\n",
                            ".xr-dim-list {\n",
                            "  display: inline-block !important;\n",
                            "  list-style: none;\n",
                            "  padding: 0 !important;\n",
                            "  margin: 0;\n",
                            "}\n",
                            "\n",
                            ".xr-dim-list li {\n",
                            "  display: inline-block;\n",
                            "  padding: 0;\n",
                            "  margin: 0;\n",
                            "}\n",
                            "\n",
                            ".xr-dim-list:before {\n",
                            "  content: \"(\";\n",
                            "}\n",
                            "\n",
                            ".xr-dim-list:after {\n",
                            "  content: \")\";\n",
                            "}\n",
                            "\n",
                            ".xr-dim-list li:not(:last-child):after {\n",
                            "  content: \",\";\n",
                            "  padding-right: 5px;\n",
                            "}\n",
                            "\n",
                            ".xr-has-index {\n",
                            "  font-weight: bold;\n",
                            "}\n",
                            "\n",
                            ".xr-var-list,\n",
                            ".xr-var-item {\n",
                            "  display: contents;\n",
                            "}\n",
                            "\n",
                            ".xr-var-item > div,\n",
                            ".xr-var-item label,\n",
                            ".xr-var-item > .xr-var-name span {\n",
                            "  background-color: var(--xr-background-color-row-even);\n",
                            "  margin-bottom: 0;\n",
                            "}\n",
                            "\n",
                            ".xr-var-item > .xr-var-name:hover span {\n",
                            "  padding-right: 5px;\n",
                            "}\n",
                            "\n",
                            ".xr-var-list > li:nth-child(odd) > div,\n",
                            ".xr-var-list > li:nth-child(odd) > label,\n",
                            ".xr-var-list > li:nth-child(odd) > .xr-var-name span {\n",
                            "  background-color: var(--xr-background-color-row-odd);\n",
                            "}\n",
                            "\n",
                            ".xr-var-name {\n",
                            "  grid-column: 1;\n",
                            "}\n",
                            "\n",
                            ".xr-var-dims {\n",
                            "  grid-column: 2;\n",
                            "}\n",
                            "\n",
                            ".xr-var-dtype {\n",
                            "  grid-column: 3;\n",
                            "  text-align: right;\n",
                            "  color: var(--xr-font-color2);\n",
                            "}\n",
                            "\n",
                            ".xr-var-preview {\n",
                            "  grid-column: 4;\n",
                            "}\n",
                            "\n",
                            ".xr-index-preview {\n",
                            "  grid-column: 2 / 5;\n",
                            "  color: var(--xr-font-color2);\n",
                            "}\n",
                            "\n",
                            ".xr-var-name,\n",
                            ".xr-var-dims,\n",
                            ".xr-var-dtype,\n",
                            ".xr-preview,\n",
                            ".xr-attrs dt {\n",
                            "  white-space: nowrap;\n",
                            "  overflow: hidden;\n",
                            "  text-overflow: ellipsis;\n",
                            "  padding-right: 10px;\n",
                            "}\n",
                            "\n",
                            ".xr-var-name:hover,\n",
                            ".xr-var-dims:hover,\n",
                            ".xr-var-dtype:hover,\n",
                            ".xr-attrs dt:hover {\n",
                            "  overflow: visible;\n",
                            "  width: auto;\n",
                            "  z-index: 1;\n",
                            "}\n",
                            "\n",
                            ".xr-var-attrs,\n",
                            ".xr-var-data,\n",
                            ".xr-index-data {\n",
                            "  display: none;\n",
                            "  background-color: var(--xr-background-color) !important;\n",
                            "  padding-bottom: 5px !important;\n",
                            "}\n",
                            "\n",
                            ".xr-var-attrs-in:checked ~ .xr-var-attrs,\n",
                            ".xr-var-data-in:checked ~ .xr-var-data,\n",
                            ".xr-index-data-in:checked ~ .xr-index-data {\n",
                            "  display: block;\n",
                            "}\n",
                            "\n",
                            ".xr-var-data > table {\n",
                            "  float: right;\n",
                            "}\n",
                            "\n",
                            ".xr-var-name span,\n",
                            ".xr-var-data,\n",
                            ".xr-index-name div,\n",
                            ".xr-index-data,\n",
                            ".xr-attrs {\n",
                            "  padding-left: 25px !important;\n",
                            "}\n",
                            "\n",
                            ".xr-attrs,\n",
                            ".xr-var-attrs,\n",
                            ".xr-var-data,\n",
                            ".xr-index-data {\n",
                            "  grid-column: 1 / -1;\n",
                            "}\n",
                            "\n",
                            "dl.xr-attrs {\n",
                            "  padding: 0;\n",
                            "  margin: 0;\n",
                            "  display: grid;\n",
                            "  grid-template-columns: 125px auto;\n",
                            "}\n",
                            "\n",
                            ".xr-attrs dt,\n",
                            ".xr-attrs dd {\n",
                            "  padding: 0;\n",
                            "  margin: 0;\n",
                            "  float: left;\n",
                            "  padding-right: 10px;\n",
                            "  width: auto;\n",
                            "}\n",
                            "\n",
                            ".xr-attrs dt {\n",
                            "  font-weight: normal;\n",
                            "  grid-column: 1;\n",
                            "}\n",
                            "\n",
                            ".xr-attrs dt:hover span {\n",
                            "  display: inline-block;\n",
                            "  background: var(--xr-background-color);\n",
                            "  padding-right: 10px;\n",
                            "}\n",
                            "\n",
                            ".xr-attrs dd {\n",
                            "  grid-column: 2;\n",
                            "  white-space: pre-wrap;\n",
                            "  word-break: break-all;\n",
                            "}\n",
                            "\n",
                            ".xr-icon-database,\n",
                            ".xr-icon-file-text2,\n",
                            ".xr-no-icon {\n",
                            "  display: inline-block;\n",
                            "  vertical-align: middle;\n",
                            "  width: 1em;\n",
                            "  height: 1.5em !important;\n",
                            "  stroke-width: 0;\n",
                            "  stroke: currentColor;\n",
                            "  fill: currentColor;\n",
                            "}\n",
                            "</style><pre class='xr-text-repr-fallback'>&lt;xarray.Dataset&gt; Size: 59kB\n",
                            "Dimensions:     (experiment: 4, model: 7, year: 251)\n",
                            "Coordinates:\n",
                            "  * year        (year) int64 2kB 1850 1851 1852 1853 ... 2097 2098 2099 2100\n",
                            "  * model       (model) &lt;U15 420B &#x27;HadGEM3-GC31-LL&#x27; ... &#x27;UKESM1-0-LL&#x27;\n",
                            "  * experiment  (experiment) &lt;U10 160B &#x27;historical&#x27; &#x27;ssp126&#x27; &#x27;ssp245&#x27; &#x27;ssp585&#x27;\n",
                            "    height      (model) float64 56B 1.5 2.0 2.0 2.0 2.0 2.0 1.5\n",
                            "Data variables:\n",
                            "    tas         (experiment, model, year) float64 56kB 13.58 13.62 ... 20.63</pre><div class='xr-wrap' style='display:none'><div class='xr-header'><div class='xr-obj-type'>xarray.Dataset</div></div><ul class='xr-sections'><li class='xr-section-item'><input id='section-190cc9f0-e3f0-4381-8d3e-0fcf629a8e04' class='xr-section-summary-in' type='checkbox' disabled ><label for='section-190cc9f0-e3f0-4381-8d3e-0fcf629a8e04' class='xr-section-summary'  title='Expand/collapse section'>Dimensions:</label><div class='xr-section-inline-details'><ul class='xr-dim-list'><li><span class='xr-has-index'>experiment</span>: 4</li><li><span class='xr-has-index'>model</span>: 7</li><li><span class='xr-has-index'>year</span>: 251</li></ul></div><div class='xr-section-details'></div></li><li class='xr-section-item'><input id='section-ed46a9fb-eb7e-4ecd-b90b-c501ab215171' class='xr-section-summary-in' type='checkbox'  checked><label for='section-ed46a9fb-eb7e-4ecd-b90b-c501ab215171' class='xr-section-summary' >Coordinates: <span>(4)</span></label><div class='xr-section-inline-details'></div><div class='xr-section-details'><ul class='xr-var-list'><li class='xr-var-item'><div class='xr-var-name'><span class='xr-has-index'>year</span></div><div class='xr-var-dims'>(year)</div><div class='xr-var-dtype'>int64</div><div class='xr-var-preview xr-preview'>1850 1851 1852 ... 2098 2099 2100</div><input id='attrs-db0c542c-5463-4eee-be9c-3c939475b8df' class='xr-var-attrs-in' type='checkbox' disabled><label for='attrs-db0c542c-5463-4eee-be9c-3c939475b8df' title='Show/Hide attributes'><svg class='icon xr-icon-file-text2'><use xlink:href='#icon-file-text2'></use></svg></label><input id='data-d9c4ff25-13d2-4ba9-9b90-c8dff73f3073' class='xr-var-data-in' type='checkbox'><label for='data-d9c4ff25-13d2-4ba9-9b90-c8dff73f3073' title='Show/Hide data repr'><svg class='icon xr-icon-database'><use xlink:href='#icon-database'></use></svg></label><div class='xr-var-attrs'><dl class='xr-attrs'></dl></div><div class='xr-var-data'><pre>array([1850, 1851, 1852, ..., 2098, 2099, 2100], shape=(251,))</pre></div></li><li class='xr-var-item'><div class='xr-var-name'><span class='xr-has-index'>model</span></div><div class='xr-var-dims'>(model)</div><div class='xr-var-dtype'>&lt;U15</div><div class='xr-var-preview xr-preview'>&#x27;HadGEM3-GC31-LL&#x27; ... &#x27;UKESM1-0-LL&#x27;</div><input id='attrs-9252ffb7-4fa5-4fd6-a39f-c9f58412012b' class='xr-var-attrs-in' type='checkbox' disabled><label for='attrs-9252ffb7-4fa5-4fd6-a39f-c9f58412012b' title='Show/Hide attributes'><svg class='icon xr-icon-file-text2'><use xlink:href='#icon-file-text2'></use></svg></label><input id='data-da4a34f2-e30a-4123-8c6f-47b4c70c6dbf' class='xr-var-data-in' type='checkbox'><label for='data-da4a34f2-e30a-4123-8c6f-47b4c70c6dbf' title='Show/Hide data repr'><svg class='icon xr-icon-database'><use xlink:href='#icon-database'></use></svg></label><div class='xr-var-attrs'><dl class='xr-attrs'></dl></div><div class='xr-var-data'><pre>array([&#x27;HadGEM3-GC31-LL&#x27;, &#x27;INM-CM4-8&#x27;, &#x27;INM-CM5-0&#x27;, &#x27;IPSL-CM6A-LR&#x27;,\n",
                            "       &#x27;MIROC-ES2L&#x27;, &#x27;MPI-ESM1-2-LR&#x27;, &#x27;UKESM1-0-LL&#x27;], dtype=&#x27;&lt;U15&#x27;)</pre></div></li><li class='xr-var-item'><div class='xr-var-name'><span class='xr-has-index'>experiment</span></div><div class='xr-var-dims'>(experiment)</div><div class='xr-var-dtype'>&lt;U10</div><div class='xr-var-preview xr-preview'>&#x27;historical&#x27; &#x27;ssp126&#x27; ... &#x27;ssp585&#x27;</div><input id='attrs-7711f0fe-bd95-414f-a223-a4956ad64314' class='xr-var-attrs-in' type='checkbox' disabled><label for='attrs-7711f0fe-bd95-414f-a223-a4956ad64314' title='Show/Hide attributes'><svg class='icon xr-icon-file-text2'><use xlink:href='#icon-file-text2'></use></svg></label><input id='data-08c70a0e-6253-48ca-ab37-9789d46e499c' class='xr-var-data-in' type='checkbox'><label for='data-08c70a0e-6253-48ca-ab37-9789d46e499c' title='Show/Hide data repr'><svg class='icon xr-icon-database'><use xlink:href='#icon-database'></use></svg></label><div class='xr-var-attrs'><dl class='xr-attrs'></dl></div><div class='xr-var-data'><pre>array([&#x27;historical&#x27;, &#x27;ssp126&#x27;, &#x27;ssp245&#x27;, &#x27;ssp585&#x27;], dtype=&#x27;&lt;U10&#x27;)</pre></div></li><li class='xr-var-item'><div class='xr-var-name'><span>height</span></div><div class='xr-var-dims'>(model)</div><div class='xr-var-dtype'>float64</div><div class='xr-var-preview xr-preview'>1.5 2.0 2.0 2.0 2.0 2.0 1.5</div><input id='attrs-6ad1683f-5149-4dc1-b5d9-717cff027d3d' class='xr-var-attrs-in' type='checkbox' disabled><label for='attrs-6ad1683f-5149-4dc1-b5d9-717cff027d3d' title='Show/Hide attributes'><svg class='icon xr-icon-file-text2'><use xlink:href='#icon-file-text2'></use></svg></label><input id='data-a21b89fd-6ac3-44b5-ba8f-1e1091690647' class='xr-var-data-in' type='checkbox'><label for='data-a21b89fd-6ac3-44b5-ba8f-1e1091690647' title='Show/Hide data repr'><svg class='icon xr-icon-database'><use xlink:href='#icon-database'></use></svg></label><div class='xr-var-attrs'><dl class='xr-attrs'></dl></div><div class='xr-var-data'><pre>array([1.5, 2. , 2. , 2. , 2. , 2. , 1.5])</pre></div></li></ul></div></li><li class='xr-section-item'><input id='section-d4385f03-494e-437a-93cd-65bcd9c5880f' class='xr-section-summary-in' type='checkbox'  checked><label for='section-d4385f03-494e-437a-93cd-65bcd9c5880f' class='xr-section-summary' >Data variables: <span>(1)</span></label><div class='xr-section-inline-details'></div><div class='xr-section-details'><ul class='xr-var-list'><li class='xr-var-item'><div class='xr-var-name'><span>tas</span></div><div class='xr-var-dims'>(experiment, model, year)</div><div class='xr-var-dtype'>float64</div><div class='xr-var-preview xr-preview'>13.58 13.62 13.7 ... 20.48 20.63</div><input id='attrs-9b6f4b92-6de7-4206-85a9-55286aeccd99' class='xr-var-attrs-in' type='checkbox' disabled><label for='attrs-9b6f4b92-6de7-4206-85a9-55286aeccd99' title='Show/Hide attributes'><svg class='icon xr-icon-file-text2'><use xlink:href='#icon-file-text2'></use></svg></label><input id='data-f227564c-465c-4ef1-96b5-0d51433cf4b5' class='xr-var-data-in' type='checkbox'><label for='data-f227564c-465c-4ef1-96b5-0d51433cf4b5' title='Show/Hide data repr'><svg class='icon xr-icon-database'><use xlink:href='#icon-database'></use></svg></label><div class='xr-var-attrs'><dl class='xr-attrs'></dl></div><div class='xr-var-data'><pre>array([[[13.57671526, 13.61972281, 13.69983418, ...,         nan,\n",
                            "                 nan,         nan],\n",
                            "        [13.38971491, 13.36504047, 13.38635866, ...,         nan,\n",
                            "                 nan,         nan],\n",
                            "        [13.22804657, 13.19990532, 13.16567923, ...,         nan,\n",
                            "                 nan,         nan],\n",
                            "        ...,\n",
                            "        [14.94895045, 15.10892567, 15.03257159, ...,         nan,\n",
                            "                 nan,         nan],\n",
                            "        [13.47673094, 13.45913109, 13.46609431, ...,         nan,\n",
                            "                 nan,         nan],\n",
                            "        [13.32691155, 13.33535187, 13.43955638, ...,         nan,\n",
                            "                 nan,         nan]],\n",
                            "\n",
                            "       [[        nan,         nan,         nan, ..., 16.29245683,\n",
                            "         16.36082827, 16.33036985],\n",
                            "        [        nan,         nan,         nan, ..., 14.76511278,\n",
                            "         14.71776501, 14.78597346],\n",
                            "        [        nan,         nan,         nan, ..., 14.57112824,\n",
                            "         14.57076709, 14.51991082],\n",
                            "...\n",
                            "        [        nan,         nan,         nan, ..., 17.47279885,\n",
                            "         17.79239638, 17.58084508],\n",
                            "        [        nan,         nan,         nan, ..., 16.0461109 ,\n",
                            "         16.01744213, 16.02138782],\n",
                            "        [        nan,         nan,         nan, ..., 17.62745672,\n",
                            "         17.5299521 , 17.59425743]],\n",
                            "\n",
                            "       [[        nan,         nan,         nan, ..., 20.39295861,\n",
                            "         20.52182487, 20.57955248],\n",
                            "        [        nan,         nan,         nan, ..., 17.39707069,\n",
                            "         17.3183903 , 17.38916422],\n",
                            "        [        nan,         nan,         nan, ..., 17.16603799,\n",
                            "         17.24878839, 17.27704339],\n",
                            "        ...,\n",
                            "        [        nan,         nan,         nan, ..., 19.3107107 ,\n",
                            "         19.39395087, 19.69432393],\n",
                            "        [        nan,         nan,         nan, ..., 18.06633781,\n",
                            "         17.98003727, 17.73531158],\n",
                            "        [        nan,         nan,         nan, ..., 20.65340704,\n",
                            "         20.48425935, 20.63318635]]], shape=(4, 7, 251))</pre></div></li></ul></div></li><li class='xr-section-item'><input id='section-da10c6a5-8a08-4dd5-ae1c-19baafe96129' class='xr-section-summary-in' type='checkbox'  ><label for='section-da10c6a5-8a08-4dd5-ae1c-19baafe96129' class='xr-section-summary' >Indexes: <span>(3)</span></label><div class='xr-section-inline-details'></div><div class='xr-section-details'><ul class='xr-var-list'><li class='xr-var-item'><div class='xr-index-name'><div>year</div></div><div class='xr-index-preview'>PandasIndex</div><input type='checkbox' disabled/><label></label><input id='index-2f6bc4b5-8940-4610-a3f6-d1880bffbc02' class='xr-index-data-in' type='checkbox'/><label for='index-2f6bc4b5-8940-4610-a3f6-d1880bffbc02' title='Show/Hide index repr'><svg class='icon xr-icon-database'><use xlink:href='#icon-database'></use></svg></label><div class='xr-index-data'><pre>PandasIndex(Index([1850, 1851, 1852, 1853, 1854, 1855, 1856, 1857, 1858, 1859,\n",
                            "       ...\n",
                            "       2091, 2092, 2093, 2094, 2095, 2096, 2097, 2098, 2099, 2100],\n",
                            "      dtype=&#x27;int64&#x27;, name=&#x27;year&#x27;, length=251))</pre></div></li><li class='xr-var-item'><div class='xr-index-name'><div>model</div></div><div class='xr-index-preview'>PandasIndex</div><input type='checkbox' disabled/><label></label><input id='index-4bfdeeb3-7b53-4460-8938-407987ade723' class='xr-index-data-in' type='checkbox'/><label for='index-4bfdeeb3-7b53-4460-8938-407987ade723' title='Show/Hide index repr'><svg class='icon xr-icon-database'><use xlink:href='#icon-database'></use></svg></label><div class='xr-index-data'><pre>PandasIndex(Index([&#x27;HadGEM3-GC31-LL&#x27;, &#x27;INM-CM4-8&#x27;, &#x27;INM-CM5-0&#x27;, &#x27;IPSL-CM6A-LR&#x27;,\n",
                            "       &#x27;MIROC-ES2L&#x27;, &#x27;MPI-ESM1-2-LR&#x27;, &#x27;UKESM1-0-LL&#x27;],\n",
                            "      dtype=&#x27;object&#x27;, name=&#x27;model&#x27;))</pre></div></li><li class='xr-var-item'><div class='xr-index-name'><div>experiment</div></div><div class='xr-index-preview'>PandasIndex</div><input type='checkbox' disabled/><label></label><input id='index-a61f5003-dcca-4b0e-b7c8-29b5e4b21c5d' class='xr-index-data-in' type='checkbox'/><label for='index-a61f5003-dcca-4b0e-b7c8-29b5e4b21c5d' title='Show/Hide index repr'><svg class='icon xr-icon-database'><use xlink:href='#icon-database'></use></svg></label><div class='xr-index-data'><pre>PandasIndex(Index([&#x27;historical&#x27;, &#x27;ssp126&#x27;, &#x27;ssp245&#x27;, &#x27;ssp585&#x27;], dtype=&#x27;object&#x27;, name=&#x27;experiment&#x27;))</pre></div></li></ul></div></li><li class='xr-section-item'><input id='section-a22fa237-72b1-40d8-b630-649f7f701e7a' class='xr-section-summary-in' type='checkbox' disabled ><label for='section-a22fa237-72b1-40d8-b630-649f7f701e7a' class='xr-section-summary'  title='Expand/collapse section'>Attributes: <span>(0)</span></label><div class='xr-section-inline-details'></div><div class='xr-section-details'><dl class='xr-attrs'></dl></div></li></ul></div></div>"
                        ],
                        "text/plain": [
                            "<xarray.Dataset> Size: 59kB\n",
                            "Dimensions:     (experiment: 4, model: 7, year: 251)\n",
                            "Coordinates:\n",
                            "  * year        (year) int64 2kB 1850 1851 1852 1853 ... 2097 2098 2099 2100\n",
                            "  * model       (model) <U15 420B 'HadGEM3-GC31-LL' ... 'UKESM1-0-LL'\n",
                            "  * experiment  (experiment) <U10 160B 'historical' 'ssp126' 'ssp245' 'ssp585'\n",
                            "    height      (model) float64 56B 1.5 2.0 2.0 2.0 2.0 2.0 1.5\n",
                            "Data variables:\n",
                            "    tas         (experiment, model, year) float64 56kB 13.58 13.62 ... 20.63"
                        ]
                    },
                    "execution_count": 25,
                    "metadata": {},
                    "output_type": "execute_result"
                }
            ],
            "source": [
                "data_ds.load()"
            ]
        },
        {
            "cell_type": "markdown",
            "metadata": {},
            "source": [
                "Finally, we create an Xarray DataArray object for the near-surface air temperature variable, 'tas':"
            ]
        },
        {
            "cell_type": "code",
            "execution_count": 26,
            "metadata": {},
            "outputs": [],
            "source": [
                "data = data_ds['tas']"
            ]
        },
        {
            "cell_type": "markdown",
            "metadata": {},
            "source": [
                "## Visualize the CMIP6 annual global average temperature between 1850 and 2100"
            ]
        },
        {
            "cell_type": "markdown",
            "metadata": {},
            "source": [
                "We will now create a plot of the model ensemble of near-surface air temperature for the historical and future periods, according to the three selected scenarios."
            ]
        },
        {
            "cell_type": "markdown",
            "metadata": {},
            "source": [
                "#### Calculate quantiles for model ensemble"
            ]
        },
        {
            "cell_type": "markdown",
            "metadata": {},
            "source": [
                "Rather than plotting the data from all models, we will instead view the range of values as given by quantiles, including the 10th (near to lower limit), the 50th (mid-range) and the 90th (near to upper limit) quantiles:"
            ]
        },
        {
            "cell_type": "code",
            "execution_count": 27,
            "metadata": {},
            "outputs": [
                {
                    "name": "stderr",
                    "output_type": "stream",
                    "text": [
                        "/Library/Frameworks/Python.framework/Versions/3.12/lib/python3.12/site-packages/numpy/lib/_nanfunctions_impl.py:1620: RuntimeWarning: All-NaN slice encountered\n",
                        "  return fnb._ureduce(a,\n"
                    ]
                }
            ],
            "source": [
                "data_90 = data.quantile(0.9, dim='model')\n",
                "data_10 = data.quantile(0.1, dim='model')\n",
                "data_50 = data.quantile(0.5, dim='model')"
            ]
        },
        {
            "cell_type": "markdown",
            "metadata": {},
            "source": [
                "> **Note:** The warning message is due to the presence of NaN (Not a Number) data given that the historical and scenario datasets represent only parts (historical and future respectively) of the entire time series. As these two datasets have been merged, NaN values will exist (e.g. there will be no data for the historical experiment for the future period)."
            ]
        },
        {
            "cell_type": "markdown",
            "metadata": {},
            "source": [
                "### View time-series"
            ]
        },
        {
            "cell_type": "markdown",
            "metadata": {},
            "source": [
                "Finally we will visualise this data in one time-series plot. We will use the matplotlib function `plot()`. The dimension `year` will be the x-axis and the near-surface air temperature values in degrees Celsius will be the y-axis. \n",
                "\n",
                "The plotting function below has four main parts:\n",
                "* **Initiate the plot**: initiate a matplotlib plot with `plt.subplots()`\n",
                "* **Plot the time-series**: plot the data for each experiment, including the historical experiment and three scenarios with the `plot()` function\n",
                "* **Set axes limits, labels, title and legend**: Define title and axes labels, and add additional items to the plot, such as legend or gridlines\n",
                "* **Save the figure**: Save the figure as a PNG file with the `matplotlib.pyplot.savefig()` function"
            ]
        },
        {
            "cell_type": "code",
            "execution_count": 28,
            "metadata": {
                "scrolled": true
            },
            "outputs": [
                {
                    "data": {
                        "image/png": "[encoded data removed]",
                        "text/plain": [
                            "<Figure size 1600x800 with 1 Axes>"
                        ]
                    },
                    "metadata": {},
                    "output_type": "display_data"
                }
            ],
            "source": [
                "fig, ax = plt.subplots(1, 1, figsize = (16, 8))\n",
                "\n",
                "colours = ['black','red','green','blue']\n",
                "for i in np.arange(len(experiments)):\n",
                "    ax.plot(data_50.year, data_50[i,:], color=f'{colours[i]}', \n",
                "            label=f'{data_50.experiment[i].values} 50th quantile')\n",
                "    ax.fill_between(data_50.year, data_90[i,:], data_10[i,:], alpha=0.1, color=f'{colours[i]}', \n",
                "            label=f'{data_50.experiment[i].values} 10th and 90th quantile range')\n",
                "\n",
                "ax.set_xlim(1850,2100)\n",
                "ax.set_title('CMIP6 annual global average temperature (1850 to 2100)')\n",
                "ax.set_ylabel('tam (Celsius)')\n",
                "ax.set_xlabel('year')\n",
                "handles, labels = ax.get_legend_handles_labels()\n",
                "ax.legend(handles, labels)\n",
                "ax.grid(linestyle='--')\n",
                "\n",
                "fig.savefig(f'{DATADIR}CMIP6_annual_global_tas.png')"
            ]
        },
        {
            "cell_type": "markdown",
            "metadata": {},
            "source": [
                "The visualization of the `CMIP6 annual global average temperature (1850 to 2100)` above shows that the global average temperature was more or less stable in the pre-industrial phase, but steadily increases since the 1990s. It shows further that, depending on the SSP scenario, the course and increase of the global annual temperature differs. While for the best case `SSP1-2.6` scenario, the global annual temperature could stabilize around 15 degC, in the worst case `SSP5-8.5` scenario, the global annual temperature could increase to above 20 degC."
            ]
        },
        {
            "cell_type": "markdown",
            "metadata": {},
            "source": [
                "<p></p>\n",
                "<span style='float:right'><p style=\\\"text-align:right;\\\">This project is licensed under <a href=\"./LICENSE\">APACHE License 2.0</a>. | <a href=\\\"https://github.com/ecmwf-projects/copernicus-training\">View on GitHub</a></span>"
            ]
        }
    ],
    "metadata": {
        "cells": [
            {
                "cell_type": "",
                "execution_count": null,
                "id": "",
                "metadata": {},
                "outputs": [],
                "source": []
            }
        ],
        "kernelspec": {
            "display_name": "Python 3",
            "language": "python",
            "name": "python3"
        },
        "language_info": {
            "codemirror_mode": {
                "name": "ipython",
                "version": 3
            },
            "file_extension": ".py",
            "mimetype": "text/x-python",
            "name": "python",
            "nbconvert_exporter": "python",
            "pygments_lexer": "ipython3",
            "version": "3.12.1"
        },
        "metadata": {
            "author": "",
            "content_type": "Software & code",
            "data_access": "Climate Data Store",
            "deployment": {
                "ecmwf": {
                    "deployment_service": {
                        "link": "",
                        "service_contact": "",
                        "service_provider": ""
                    },
                    "git": {
                        "link": "https://github.com/ecmwf-training/c3s-training-submodule-projections/blob/main/projections-cmip6.ipynb",
                        "service_contact": "copernicus-training@ecmwf.int",
                        "service_provider": "ECMWF C3S"
                    }
                },
                "wekeo": {
                    "git": {
                        "link": "",
                        "service_contact": "copernicus-training@ecmwf.int",
                        "service_provider": "ECMWF C3S"
                    },
                    "url": {
                        "link": "",
                        "service_contact": "copernicus-training@ecmwf.int",
                        "service_provider": "ECMWF C3S"
                    }
                }
            },
            "description": "A practical introduction on how to access and process CMIP6 global climate projections data available in the CDS.",
            "image": "",
            "license": "Apache-2.0",
            "metadata_schema_version": "2.0.0",
            "originator": "C3S",
            "tags": {
                "category": "c3s",
                "data_product": "projections-cmip6",
                "data_provider": "Copernicus C3S",
                "data_type": "projection",
                "orbit": "",
                "satellite": "",
                "sensor": "",
                "service": "",
                "subtheme": [
                    "Climate system monitoring - Atmosphere"
                ],
                "theme": "Climate",
                "variable": [
                    "Temperature"
                ]
            },
            "title": "Plot an Ensemble of CMIP6 Climate Projections",
            "version": "1.0.0",
            "version_date": ""
        },
        "nbformat": 4,
        "nbformat_minor": 5
    },
    "nbformat": 4,
    "nbformat_minor": 4
}
